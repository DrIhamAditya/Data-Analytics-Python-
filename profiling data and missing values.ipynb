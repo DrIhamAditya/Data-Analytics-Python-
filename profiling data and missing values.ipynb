{
  "metadata": {
    "kernelspec": {
      "name": "python",
      "display_name": "Python (Pyodide)",
      "language": "python"
    },
    "language_info": {
      "codemirror_mode": {
        "name": "python",
        "version": 3
      },
      "file_extension": ".py",
      "mimetype": "text/x-python",
      "name": "python",
      "nbconvert_exporter": "python",
      "pygments_lexer": "ipython3",
      "version": "3.8"
    }
  },
  "nbformat_minor": 4,
  "nbformat": 4,
  "cells": [
    {
      "cell_type": "code",
      "source": "#data quality with Python \n#data profiling \nimport pandas as pd \nimport numpy as np \nimport io \n\n#import dataset \nretail_raw = pd.read_csv('retail_raw.csv')\n\n#print dataset \nretail_raw",
      "metadata": {
        "trusted": true
      },
      "outputs": [
        {
          "execution_count": 1,
          "output_type": "execute_result",
          "data": {
            "text/plain": "      order_id  order_date  customer_id             city     province  \\\n0      1703458  17/10/2019        14004  Jakarta Selatan  DKI Jakarta   \n1      1706815  24/10/2019        17220  Jakarta Selatan  DKI Jakarta   \n2      1710718  03/11/2019        16518    Jakarta Utara  DKI Jakarta   \n3      1683592  19/08/2019        16364    Jakarta Barat  DKI Jakarta   \n4      1702573  16/10/2019        15696    Jakarta Timur  DKI Jakarta   \n...        ...         ...          ...              ...          ...   \n4995   1724011  01/12/2019        12838        Tangerang       Banten   \n4996   1676302  28/07/2019        13833            Bogor   Jawa Barat   \n4997   1706071  23/10/2019        16332    Jakarta Timur  DKI Jakarta   \n4998   1703620  17/10/2019        13055    Jakarta Barat  DKI Jakarta   \n4999   1720036  24/11/2019        17609    Jakarta Pusat  DKI Jakarta   \n\n     product_id    brand  quantity  item_price  \n0         P1910  BRAND_J      10.0    740000.0  \n1         P2934  BRAND_R       2.0    604000.0  \n2         P0908  BRAND_C       8.0   1045000.0  \n3         P0128  BRAND_A       4.0    205000.0  \n4         P2968  BRAND_R       2.0         NaN  \n...         ...      ...       ...         ...  \n4995      P3047  BRAND_R       2.0    450000.0  \n4996      P0760  BRAND_C       3.0   1465000.0  \n4997      P1681  BRAND_H       4.0    747000.0  \n4998      P0757  BRAND_C       8.0    695000.0  \n4999      P3334  BRAND_S       1.0   1045000.0  \n\n[5000 rows x 9 columns]",
            "text/html": "<div>\n<style scoped>\n    .dataframe tbody tr th:only-of-type {\n        vertical-align: middle;\n    }\n\n    .dataframe tbody tr th {\n        vertical-align: top;\n    }\n\n    .dataframe thead th {\n        text-align: right;\n    }\n</style>\n<table border=\"1\" class=\"dataframe\">\n  <thead>\n    <tr style=\"text-align: right;\">\n      <th></th>\n      <th>order_id</th>\n      <th>order_date</th>\n      <th>customer_id</th>\n      <th>city</th>\n      <th>province</th>\n      <th>product_id</th>\n      <th>brand</th>\n      <th>quantity</th>\n      <th>item_price</th>\n    </tr>\n  </thead>\n  <tbody>\n    <tr>\n      <th>0</th>\n      <td>1703458</td>\n      <td>17/10/2019</td>\n      <td>14004</td>\n      <td>Jakarta Selatan</td>\n      <td>DKI Jakarta</td>\n      <td>P1910</td>\n      <td>BRAND_J</td>\n      <td>10.0</td>\n      <td>740000.0</td>\n    </tr>\n    <tr>\n      <th>1</th>\n      <td>1706815</td>\n      <td>24/10/2019</td>\n      <td>17220</td>\n      <td>Jakarta Selatan</td>\n      <td>DKI Jakarta</td>\n      <td>P2934</td>\n      <td>BRAND_R</td>\n      <td>2.0</td>\n      <td>604000.0</td>\n    </tr>\n    <tr>\n      <th>2</th>\n      <td>1710718</td>\n      <td>03/11/2019</td>\n      <td>16518</td>\n      <td>Jakarta Utara</td>\n      <td>DKI Jakarta</td>\n      <td>P0908</td>\n      <td>BRAND_C</td>\n      <td>8.0</td>\n      <td>1045000.0</td>\n    </tr>\n    <tr>\n      <th>3</th>\n      <td>1683592</td>\n      <td>19/08/2019</td>\n      <td>16364</td>\n      <td>Jakarta Barat</td>\n      <td>DKI Jakarta</td>\n      <td>P0128</td>\n      <td>BRAND_A</td>\n      <td>4.0</td>\n      <td>205000.0</td>\n    </tr>\n    <tr>\n      <th>4</th>\n      <td>1702573</td>\n      <td>16/10/2019</td>\n      <td>15696</td>\n      <td>Jakarta Timur</td>\n      <td>DKI Jakarta</td>\n      <td>P2968</td>\n      <td>BRAND_R</td>\n      <td>2.0</td>\n      <td>NaN</td>\n    </tr>\n    <tr>\n      <th>...</th>\n      <td>...</td>\n      <td>...</td>\n      <td>...</td>\n      <td>...</td>\n      <td>...</td>\n      <td>...</td>\n      <td>...</td>\n      <td>...</td>\n      <td>...</td>\n    </tr>\n    <tr>\n      <th>4995</th>\n      <td>1724011</td>\n      <td>01/12/2019</td>\n      <td>12838</td>\n      <td>Tangerang</td>\n      <td>Banten</td>\n      <td>P3047</td>\n      <td>BRAND_R</td>\n      <td>2.0</td>\n      <td>450000.0</td>\n    </tr>\n    <tr>\n      <th>4996</th>\n      <td>1676302</td>\n      <td>28/07/2019</td>\n      <td>13833</td>\n      <td>Bogor</td>\n      <td>Jawa Barat</td>\n      <td>P0760</td>\n      <td>BRAND_C</td>\n      <td>3.0</td>\n      <td>1465000.0</td>\n    </tr>\n    <tr>\n      <th>4997</th>\n      <td>1706071</td>\n      <td>23/10/2019</td>\n      <td>16332</td>\n      <td>Jakarta Timur</td>\n      <td>DKI Jakarta</td>\n      <td>P1681</td>\n      <td>BRAND_H</td>\n      <td>4.0</td>\n      <td>747000.0</td>\n    </tr>\n    <tr>\n      <th>4998</th>\n      <td>1703620</td>\n      <td>17/10/2019</td>\n      <td>13055</td>\n      <td>Jakarta Barat</td>\n      <td>DKI Jakarta</td>\n      <td>P0757</td>\n      <td>BRAND_C</td>\n      <td>8.0</td>\n      <td>695000.0</td>\n    </tr>\n    <tr>\n      <th>4999</th>\n      <td>1720036</td>\n      <td>24/11/2019</td>\n      <td>17609</td>\n      <td>Jakarta Pusat</td>\n      <td>DKI Jakarta</td>\n      <td>P3334</td>\n      <td>BRAND_S</td>\n      <td>1.0</td>\n      <td>1045000.0</td>\n    </tr>\n  </tbody>\n</table>\n<p>5000 rows × 9 columns</p>\n</div>"
          },
          "metadata": {}
        }
      ],
      "execution_count": 1
    },
    {
      "cell_type": "code",
      "source": "#print 20 upper rows of the data \nimport pandas as pd \nimport numpy as np \nimport io \n\nretail_raw = pd.read_csv('retail_raw.csv')\n\nretail_raw.head(20)",
      "metadata": {
        "trusted": true
      },
      "outputs": [
        {
          "execution_count": 1,
          "output_type": "execute_result",
          "data": {
            "text/plain": "    order_id  order_date  customer_id             city     province  \\\n0    1703458  17/10/2019        14004  Jakarta Selatan  DKI Jakarta   \n1    1706815  24/10/2019        17220  Jakarta Selatan  DKI Jakarta   \n2    1710718  03/11/2019        16518    Jakarta Utara  DKI Jakarta   \n3    1683592  19/08/2019        16364    Jakarta Barat  DKI Jakarta   \n4    1702573  16/10/2019        15696    Jakarta Timur  DKI Jakarta   \n5    1672906  16/07/2019        12748    Jakarta Utara  DKI Jakarta   \n6    1711399  04/11/2019        16791    Jakarta Barat  DKI Jakarta   \n7    1695367  26/09/2019        13069        Surakarta  Jawa Tengah   \n8    1741846  30/12/2019        16873    Jakarta Barat  DKI Jakarta   \n9    1720189  24/11/2019        14723        Tangerang       Banten   \n10   1683583  19/08/2019        13814         Denpasar         Bali   \n11   1693309  19/09/2019        17841    Jakarta Utara  DKI Jakarta   \n12   1708381  29/10/2019        13895        Tangerang       Banten   \n13   1705093  21/10/2019        16999    Jakarta Utara  DKI Jakarta   \n14   1734790  18/12/2019        17422  Jakarta Selatan  DKI Jakarta   \n15   1678960  05/08/2019        14552        Tangerang       Banten   \n16   1668715  04/07/2019        13397         Surabaya   Jawa Timur   \n17   1714324  11/11/2019        14096        Surakarta  Jawa Tengah   \n18   1669411  07/07/2019        15291    Jakarta Pusat  DKI Jakarta   \n19   1731961  13/12/2019        13880            Bogor   Jawa Barat   \n\n   product_id    brand  quantity  item_price  \n0       P1910  BRAND_J      10.0    740000.0  \n1       P2934  BRAND_R       2.0    604000.0  \n2       P0908  BRAND_C       8.0   1045000.0  \n3       P0128  BRAND_A       4.0    205000.0  \n4       P2968  BRAND_R       2.0         NaN  \n5       P0710  BRAND_C       4.0    520000.0  \n6       P0860  BRAND_C       1.0   1465000.0  \n7       P3342  BRAND_S       2.0    205000.0  \n8       P3203  BRAND_S      32.0    450000.0  \n9       P1701  BRAND_H       2.0    149000.0  \n10      P2864  BRAND_R       6.0   1045000.0  \n11      P1798  BRAND_H       1.0    604000.0  \n12      P2074  BRAND_L       3.0   2200000.0  \n13      P2521  BRAND_P       4.0   1745000.0  \n14      P0122  BRAND_A       NaN    695000.0  \n15      P3482  BRAND_S       1.0    904000.0  \n16      P1902  BRAND_J      10.0    740000.0  \n17      P2022  BRAND_L       1.0   1748000.0  \n18      P0931  BRAND_C       4.0   1395000.0  \n19      P2853  BRAND_R       6.0    740000.0  ",
            "text/html": "<div>\n<style scoped>\n    .dataframe tbody tr th:only-of-type {\n        vertical-align: middle;\n    }\n\n    .dataframe tbody tr th {\n        vertical-align: top;\n    }\n\n    .dataframe thead th {\n        text-align: right;\n    }\n</style>\n<table border=\"1\" class=\"dataframe\">\n  <thead>\n    <tr style=\"text-align: right;\">\n      <th></th>\n      <th>order_id</th>\n      <th>order_date</th>\n      <th>customer_id</th>\n      <th>city</th>\n      <th>province</th>\n      <th>product_id</th>\n      <th>brand</th>\n      <th>quantity</th>\n      <th>item_price</th>\n    </tr>\n  </thead>\n  <tbody>\n    <tr>\n      <th>0</th>\n      <td>1703458</td>\n      <td>17/10/2019</td>\n      <td>14004</td>\n      <td>Jakarta Selatan</td>\n      <td>DKI Jakarta</td>\n      <td>P1910</td>\n      <td>BRAND_J</td>\n      <td>10.0</td>\n      <td>740000.0</td>\n    </tr>\n    <tr>\n      <th>1</th>\n      <td>1706815</td>\n      <td>24/10/2019</td>\n      <td>17220</td>\n      <td>Jakarta Selatan</td>\n      <td>DKI Jakarta</td>\n      <td>P2934</td>\n      <td>BRAND_R</td>\n      <td>2.0</td>\n      <td>604000.0</td>\n    </tr>\n    <tr>\n      <th>2</th>\n      <td>1710718</td>\n      <td>03/11/2019</td>\n      <td>16518</td>\n      <td>Jakarta Utara</td>\n      <td>DKI Jakarta</td>\n      <td>P0908</td>\n      <td>BRAND_C</td>\n      <td>8.0</td>\n      <td>1045000.0</td>\n    </tr>\n    <tr>\n      <th>3</th>\n      <td>1683592</td>\n      <td>19/08/2019</td>\n      <td>16364</td>\n      <td>Jakarta Barat</td>\n      <td>DKI Jakarta</td>\n      <td>P0128</td>\n      <td>BRAND_A</td>\n      <td>4.0</td>\n      <td>205000.0</td>\n    </tr>\n    <tr>\n      <th>4</th>\n      <td>1702573</td>\n      <td>16/10/2019</td>\n      <td>15696</td>\n      <td>Jakarta Timur</td>\n      <td>DKI Jakarta</td>\n      <td>P2968</td>\n      <td>BRAND_R</td>\n      <td>2.0</td>\n      <td>NaN</td>\n    </tr>\n    <tr>\n      <th>5</th>\n      <td>1672906</td>\n      <td>16/07/2019</td>\n      <td>12748</td>\n      <td>Jakarta Utara</td>\n      <td>DKI Jakarta</td>\n      <td>P0710</td>\n      <td>BRAND_C</td>\n      <td>4.0</td>\n      <td>520000.0</td>\n    </tr>\n    <tr>\n      <th>6</th>\n      <td>1711399</td>\n      <td>04/11/2019</td>\n      <td>16791</td>\n      <td>Jakarta Barat</td>\n      <td>DKI Jakarta</td>\n      <td>P0860</td>\n      <td>BRAND_C</td>\n      <td>1.0</td>\n      <td>1465000.0</td>\n    </tr>\n    <tr>\n      <th>7</th>\n      <td>1695367</td>\n      <td>26/09/2019</td>\n      <td>13069</td>\n      <td>Surakarta</td>\n      <td>Jawa Tengah</td>\n      <td>P3342</td>\n      <td>BRAND_S</td>\n      <td>2.0</td>\n      <td>205000.0</td>\n    </tr>\n    <tr>\n      <th>8</th>\n      <td>1741846</td>\n      <td>30/12/2019</td>\n      <td>16873</td>\n      <td>Jakarta Barat</td>\n      <td>DKI Jakarta</td>\n      <td>P3203</td>\n      <td>BRAND_S</td>\n      <td>32.0</td>\n      <td>450000.0</td>\n    </tr>\n    <tr>\n      <th>9</th>\n      <td>1720189</td>\n      <td>24/11/2019</td>\n      <td>14723</td>\n      <td>Tangerang</td>\n      <td>Banten</td>\n      <td>P1701</td>\n      <td>BRAND_H</td>\n      <td>2.0</td>\n      <td>149000.0</td>\n    </tr>\n    <tr>\n      <th>10</th>\n      <td>1683583</td>\n      <td>19/08/2019</td>\n      <td>13814</td>\n      <td>Denpasar</td>\n      <td>Bali</td>\n      <td>P2864</td>\n      <td>BRAND_R</td>\n      <td>6.0</td>\n      <td>1045000.0</td>\n    </tr>\n    <tr>\n      <th>11</th>\n      <td>1693309</td>\n      <td>19/09/2019</td>\n      <td>17841</td>\n      <td>Jakarta Utara</td>\n      <td>DKI Jakarta</td>\n      <td>P1798</td>\n      <td>BRAND_H</td>\n      <td>1.0</td>\n      <td>604000.0</td>\n    </tr>\n    <tr>\n      <th>12</th>\n      <td>1708381</td>\n      <td>29/10/2019</td>\n      <td>13895</td>\n      <td>Tangerang</td>\n      <td>Banten</td>\n      <td>P2074</td>\n      <td>BRAND_L</td>\n      <td>3.0</td>\n      <td>2200000.0</td>\n    </tr>\n    <tr>\n      <th>13</th>\n      <td>1705093</td>\n      <td>21/10/2019</td>\n      <td>16999</td>\n      <td>Jakarta Utara</td>\n      <td>DKI Jakarta</td>\n      <td>P2521</td>\n      <td>BRAND_P</td>\n      <td>4.0</td>\n      <td>1745000.0</td>\n    </tr>\n    <tr>\n      <th>14</th>\n      <td>1734790</td>\n      <td>18/12/2019</td>\n      <td>17422</td>\n      <td>Jakarta Selatan</td>\n      <td>DKI Jakarta</td>\n      <td>P0122</td>\n      <td>BRAND_A</td>\n      <td>NaN</td>\n      <td>695000.0</td>\n    </tr>\n    <tr>\n      <th>15</th>\n      <td>1678960</td>\n      <td>05/08/2019</td>\n      <td>14552</td>\n      <td>Tangerang</td>\n      <td>Banten</td>\n      <td>P3482</td>\n      <td>BRAND_S</td>\n      <td>1.0</td>\n      <td>904000.0</td>\n    </tr>\n    <tr>\n      <th>16</th>\n      <td>1668715</td>\n      <td>04/07/2019</td>\n      <td>13397</td>\n      <td>Surabaya</td>\n      <td>Jawa Timur</td>\n      <td>P1902</td>\n      <td>BRAND_J</td>\n      <td>10.0</td>\n      <td>740000.0</td>\n    </tr>\n    <tr>\n      <th>17</th>\n      <td>1714324</td>\n      <td>11/11/2019</td>\n      <td>14096</td>\n      <td>Surakarta</td>\n      <td>Jawa Tengah</td>\n      <td>P2022</td>\n      <td>BRAND_L</td>\n      <td>1.0</td>\n      <td>1748000.0</td>\n    </tr>\n    <tr>\n      <th>18</th>\n      <td>1669411</td>\n      <td>07/07/2019</td>\n      <td>15291</td>\n      <td>Jakarta Pusat</td>\n      <td>DKI Jakarta</td>\n      <td>P0931</td>\n      <td>BRAND_C</td>\n      <td>4.0</td>\n      <td>1395000.0</td>\n    </tr>\n    <tr>\n      <th>19</th>\n      <td>1731961</td>\n      <td>13/12/2019</td>\n      <td>13880</td>\n      <td>Bogor</td>\n      <td>Jawa Barat</td>\n      <td>P2853</td>\n      <td>BRAND_R</td>\n      <td>6.0</td>\n      <td>740000.0</td>\n    </tr>\n  </tbody>\n</table>\n</div>"
          },
          "metadata": {}
        }
      ],
      "execution_count": 1
    },
    {
      "cell_type": "code",
      "source": "#print 20 latest rows of the data \nimport pandas as pd \nimport numpy as np \nimport io \n\nretail_raw = pd.read_csv('retail_raw.csv')\n\nretail_raw.tail(20)",
      "metadata": {
        "trusted": true
      },
      "outputs": [
        {
          "execution_count": 2,
          "output_type": "execute_result",
          "data": {
            "text/plain": "      order_id  order_date  customer_id             city     province  \\\n4980   1674277  21/07/2019        14808            Bogor   Jawa Barat   \n4981   1713541  08/11/2019        15498         Semarang  Jawa Tengah   \n4982   1680142  08/08/2019        17259  Jakarta Selatan  DKI Jakarta   \n4983   1677205  31/07/2019        17841    Jakarta Utara  DKI Jakarta   \n4984   1679629  07/08/2019        15752       Yogyakarta   Yogyakarta   \n4985   1672405  15/07/2019        16713       Yogyakarta   Yogyakarta   \n4986   1735456  19/12/2019        12921            Bogor   Jawa Barat   \n4987   1690672  11/09/2019        15786  Jakarta Selatan  DKI Jakarta   \n4988   1728964  09/12/2019        14953        Tangerang       Banten   \n4989   1735879  19/12/2019        12709         Denpasar         Bali   \n4990   1678408  02/08/2019        15182    Jakarta Pusat  DKI Jakarta   \n4991   1736503  20/12/2019        18109        Tangerang       Banten   \n4992   1734787  18/12/2019        18283  Jakarta Selatan  DKI Jakarta   \n4993   1678615  04/08/2019        16880           Bekasi   Jawa Barat   \n4994   1707424  25/10/2019        13021       Yogyakarta   Yogyakarta   \n4995   1724011  01/12/2019        12838        Tangerang       Banten   \n4996   1676302  28/07/2019        13833            Bogor   Jawa Barat   \n4997   1706071  23/10/2019        16332    Jakarta Timur  DKI Jakarta   \n4998   1703620  17/10/2019        13055    Jakarta Barat  DKI Jakarta   \n4999   1720036  24/11/2019        17609    Jakarta Pusat  DKI Jakarta   \n\n     product_id    brand  quantity  item_price  \n4980      P0591  BRAND_B       1.0   5945000.0  \n4981      P2947  BRAND_R       6.0   2095000.0  \n4982      P3013  BRAND_R       1.0   1745000.0  \n4983      P2568  BRAND_P       1.0   1045000.0  \n4984      P2094  BRAND_L       3.0    590000.0  \n4985      P0160  BRAND_A       2.0   1500000.0  \n4986      P2097  BRAND_L      10.0    590000.0  \n4987      P2712  BRAND_P      25.0    159000.0  \n4988      P2582  BRAND_P       1.0   1185000.0  \n4989      P3408  BRAND_S      24.0    240000.0  \n4990      P1903  BRAND_J      10.0    740000.0  \n4991      P2866  BRAND_R       3.0   1045000.0  \n4992      P0734  BRAND_C       2.0    310000.0  \n4993      P2426  BRAND_P       3.0    310000.0  \n4994      P1913  BRAND_J      10.0    740000.0  \n4995      P3047  BRAND_R       2.0    450000.0  \n4996      P0760  BRAND_C       3.0   1465000.0  \n4997      P1681  BRAND_H       4.0    747000.0  \n4998      P0757  BRAND_C       8.0    695000.0  \n4999      P3334  BRAND_S       1.0   1045000.0  ",
            "text/html": "<div>\n<style scoped>\n    .dataframe tbody tr th:only-of-type {\n        vertical-align: middle;\n    }\n\n    .dataframe tbody tr th {\n        vertical-align: top;\n    }\n\n    .dataframe thead th {\n        text-align: right;\n    }\n</style>\n<table border=\"1\" class=\"dataframe\">\n  <thead>\n    <tr style=\"text-align: right;\">\n      <th></th>\n      <th>order_id</th>\n      <th>order_date</th>\n      <th>customer_id</th>\n      <th>city</th>\n      <th>province</th>\n      <th>product_id</th>\n      <th>brand</th>\n      <th>quantity</th>\n      <th>item_price</th>\n    </tr>\n  </thead>\n  <tbody>\n    <tr>\n      <th>4980</th>\n      <td>1674277</td>\n      <td>21/07/2019</td>\n      <td>14808</td>\n      <td>Bogor</td>\n      <td>Jawa Barat</td>\n      <td>P0591</td>\n      <td>BRAND_B</td>\n      <td>1.0</td>\n      <td>5945000.0</td>\n    </tr>\n    <tr>\n      <th>4981</th>\n      <td>1713541</td>\n      <td>08/11/2019</td>\n      <td>15498</td>\n      <td>Semarang</td>\n      <td>Jawa Tengah</td>\n      <td>P2947</td>\n      <td>BRAND_R</td>\n      <td>6.0</td>\n      <td>2095000.0</td>\n    </tr>\n    <tr>\n      <th>4982</th>\n      <td>1680142</td>\n      <td>08/08/2019</td>\n      <td>17259</td>\n      <td>Jakarta Selatan</td>\n      <td>DKI Jakarta</td>\n      <td>P3013</td>\n      <td>BRAND_R</td>\n      <td>1.0</td>\n      <td>1745000.0</td>\n    </tr>\n    <tr>\n      <th>4983</th>\n      <td>1677205</td>\n      <td>31/07/2019</td>\n      <td>17841</td>\n      <td>Jakarta Utara</td>\n      <td>DKI Jakarta</td>\n      <td>P2568</td>\n      <td>BRAND_P</td>\n      <td>1.0</td>\n      <td>1045000.0</td>\n    </tr>\n    <tr>\n      <th>4984</th>\n      <td>1679629</td>\n      <td>07/08/2019</td>\n      <td>15752</td>\n      <td>Yogyakarta</td>\n      <td>Yogyakarta</td>\n      <td>P2094</td>\n      <td>BRAND_L</td>\n      <td>3.0</td>\n      <td>590000.0</td>\n    </tr>\n    <tr>\n      <th>4985</th>\n      <td>1672405</td>\n      <td>15/07/2019</td>\n      <td>16713</td>\n      <td>Yogyakarta</td>\n      <td>Yogyakarta</td>\n      <td>P0160</td>\n      <td>BRAND_A</td>\n      <td>2.0</td>\n      <td>1500000.0</td>\n    </tr>\n    <tr>\n      <th>4986</th>\n      <td>1735456</td>\n      <td>19/12/2019</td>\n      <td>12921</td>\n      <td>Bogor</td>\n      <td>Jawa Barat</td>\n      <td>P2097</td>\n      <td>BRAND_L</td>\n      <td>10.0</td>\n      <td>590000.0</td>\n    </tr>\n    <tr>\n      <th>4987</th>\n      <td>1690672</td>\n      <td>11/09/2019</td>\n      <td>15786</td>\n      <td>Jakarta Selatan</td>\n      <td>DKI Jakarta</td>\n      <td>P2712</td>\n      <td>BRAND_P</td>\n      <td>25.0</td>\n      <td>159000.0</td>\n    </tr>\n    <tr>\n      <th>4988</th>\n      <td>1728964</td>\n      <td>09/12/2019</td>\n      <td>14953</td>\n      <td>Tangerang</td>\n      <td>Banten</td>\n      <td>P2582</td>\n      <td>BRAND_P</td>\n      <td>1.0</td>\n      <td>1185000.0</td>\n    </tr>\n    <tr>\n      <th>4989</th>\n      <td>1735879</td>\n      <td>19/12/2019</td>\n      <td>12709</td>\n      <td>Denpasar</td>\n      <td>Bali</td>\n      <td>P3408</td>\n      <td>BRAND_S</td>\n      <td>24.0</td>\n      <td>240000.0</td>\n    </tr>\n    <tr>\n      <th>4990</th>\n      <td>1678408</td>\n      <td>02/08/2019</td>\n      <td>15182</td>\n      <td>Jakarta Pusat</td>\n      <td>DKI Jakarta</td>\n      <td>P1903</td>\n      <td>BRAND_J</td>\n      <td>10.0</td>\n      <td>740000.0</td>\n    </tr>\n    <tr>\n      <th>4991</th>\n      <td>1736503</td>\n      <td>20/12/2019</td>\n      <td>18109</td>\n      <td>Tangerang</td>\n      <td>Banten</td>\n      <td>P2866</td>\n      <td>BRAND_R</td>\n      <td>3.0</td>\n      <td>1045000.0</td>\n    </tr>\n    <tr>\n      <th>4992</th>\n      <td>1734787</td>\n      <td>18/12/2019</td>\n      <td>18283</td>\n      <td>Jakarta Selatan</td>\n      <td>DKI Jakarta</td>\n      <td>P0734</td>\n      <td>BRAND_C</td>\n      <td>2.0</td>\n      <td>310000.0</td>\n    </tr>\n    <tr>\n      <th>4993</th>\n      <td>1678615</td>\n      <td>04/08/2019</td>\n      <td>16880</td>\n      <td>Bekasi</td>\n      <td>Jawa Barat</td>\n      <td>P2426</td>\n      <td>BRAND_P</td>\n      <td>3.0</td>\n      <td>310000.0</td>\n    </tr>\n    <tr>\n      <th>4994</th>\n      <td>1707424</td>\n      <td>25/10/2019</td>\n      <td>13021</td>\n      <td>Yogyakarta</td>\n      <td>Yogyakarta</td>\n      <td>P1913</td>\n      <td>BRAND_J</td>\n      <td>10.0</td>\n      <td>740000.0</td>\n    </tr>\n    <tr>\n      <th>4995</th>\n      <td>1724011</td>\n      <td>01/12/2019</td>\n      <td>12838</td>\n      <td>Tangerang</td>\n      <td>Banten</td>\n      <td>P3047</td>\n      <td>BRAND_R</td>\n      <td>2.0</td>\n      <td>450000.0</td>\n    </tr>\n    <tr>\n      <th>4996</th>\n      <td>1676302</td>\n      <td>28/07/2019</td>\n      <td>13833</td>\n      <td>Bogor</td>\n      <td>Jawa Barat</td>\n      <td>P0760</td>\n      <td>BRAND_C</td>\n      <td>3.0</td>\n      <td>1465000.0</td>\n    </tr>\n    <tr>\n      <th>4997</th>\n      <td>1706071</td>\n      <td>23/10/2019</td>\n      <td>16332</td>\n      <td>Jakarta Timur</td>\n      <td>DKI Jakarta</td>\n      <td>P1681</td>\n      <td>BRAND_H</td>\n      <td>4.0</td>\n      <td>747000.0</td>\n    </tr>\n    <tr>\n      <th>4998</th>\n      <td>1703620</td>\n      <td>17/10/2019</td>\n      <td>13055</td>\n      <td>Jakarta Barat</td>\n      <td>DKI Jakarta</td>\n      <td>P0757</td>\n      <td>BRAND_C</td>\n      <td>8.0</td>\n      <td>695000.0</td>\n    </tr>\n    <tr>\n      <th>4999</th>\n      <td>1720036</td>\n      <td>24/11/2019</td>\n      <td>17609</td>\n      <td>Jakarta Pusat</td>\n      <td>DKI Jakarta</td>\n      <td>P3334</td>\n      <td>BRAND_S</td>\n      <td>1.0</td>\n      <td>1045000.0</td>\n    </tr>\n  </tbody>\n</table>\n</div>"
          },
          "metadata": {}
        }
      ],
      "execution_count": 2
    },
    {
      "cell_type": "code",
      "source": "#print column length (including mssing values)\nimport pandas as pd \nimport numpy as np \nimport io \n\nretail_raw = pd.read_csv('retail_raw.csv')\n\n#city column \nlength_city = len(retail_raw['city'])\nprint('Length city column:', length_city)\n\n#product_id column \nlength_product_id = len(retail_raw['product_id'])\nprint('Length product_id column:', length_product_id)",
      "metadata": {
        "trusted": true
      },
      "outputs": [
        {
          "name": "stdout",
          "text": "Length city column: 5000\nLength product_id column: 5000\n",
          "output_type": "stream"
        }
      ],
      "execution_count": 5
    },
    {
      "cell_type": "code",
      "source": "#print column length (without missing values)\nimport pandas as pd \nimport numpy as np \nimport io \n\nretail_raw = pd.read_csv('retail_raw.csv')\n\n#count of city column \ncount_city = retail_raw['city'].count()\nprint('Count kolom count_city:', count_city)\n\n#count of product_id column \ncount_product_id = retail_raw['product_id'].count()\nprint('Count kolom product_id:', count_product_id)",
      "metadata": {
        "trusted": true
      },
      "outputs": [
        {
          "name": "stdout",
          "text": "Count kolom count_city: 4984\nCount kolom product_id: 4989\n",
          "output_type": "stream"
        }
      ],
      "execution_count": 3
    },
    {
      "cell_type": "code",
      "source": "#total missing value, N/A, or NaN \nimport pandas as pd \nimport numpy as np \nimport io  \n\nretail_raw = pd.read_csv('retail_raw.csv')\n\nmis1 = length_city - count_city \nmis2 = length_product_id - count_product_id \n\nprint(mis1)\nprint(mis2)",
      "metadata": {
        "trusted": true
      },
      "outputs": [
        {
          "name": "stdout",
          "text": "16\n11\n",
          "output_type": "stream"
        }
      ],
      "execution_count": 5
    },
    {
      "cell_type": "code",
      "source": "#calculating percentage of missing values in \"city\" and \"product_id\" column \nimport pandas as pd \nimport numpy as np \nimport io \n\nretail_raw = pd.read_csv('retail_raw.csv')\n\n# Missing values in the city column \nnumber_of_missing_values_city = length_city - count_city\nratio_of_missing_values_city = number_of_missing_values_city/length_city \npct_of_missing_values_city = '{0:.1f}'.format(ratio_of_missing_values_city * 100)\nprint('Missing values percentage in the city column:', pct_of_missing_values_city)\n\n# Missing values in the product_id column \nnumber_of_missing_values_product_id = length_product_id - count_product_id \nratio_of_missing_values_product_id = number_of_missing_values_product_id/length_product_id \npct_of_missing_values_product_id = '{0:.1f}%'.format(ratio_of_missing_values_product_id * 100)\nprint('Missing values percentage in the product_id column:', pct_of_missing_values_product_id)",
      "metadata": {
        "trusted": true
      },
      "outputs": [
        {
          "name": "stdout",
          "text": "Missing values percentage in the city column: 0.3\nMissing values percentage in the product_id column: 0.2%\n",
          "output_type": "stream"
        }
      ],
      "execution_count": 6
    },
    {
      "cell_type": "code",
      "source": "# descriptive statistics in the quantity column \nimport pandas as pd\nimport numpy as np\nimport io\n\nretail_raw = pd.read_csv('retail_raw.csv')\n\nprint('Kolom quantity')\nprint('Minimum value: ', retail_raw['quantity'].min())\nprint('Maximum value: ', retail_raw['quantity'].max())\nprint('Mean value: ', retail_raw['quantity'].mean())\nprint('Mode value: ', retail_raw['quantity'].mode())\nprint('Median value: ', retail_raw['quantity'].median())\nprint('Standard Deviation value: ', retail_raw['quantity'].std())",
      "metadata": {
        "trusted": true
      },
      "outputs": [
        {
          "name": "stdout",
          "text": "Kolom quantity\nMinimum value:  1.0\nMaximum value:  720.0\nMean value:  11.423987164059366\nMode value:  0    1.0\nName: quantity, dtype: float64\nMedian value:  5.0\nStandard Deviation value:  29.44202501081146\n",
          "output_type": "stream"
        }
      ],
      "execution_count": 8
    },
    {
      "cell_type": "code",
      "source": "# descriptive statistics in the item_price column \nimport pandas as pd\nimport numpy as np\nimport io\n\nretail_raw = pd.read_csv('retail_raw.csv')\n\nprint('Kolom item_price')\nprint('Minimum value: ', retail_raw['item_price'].min())\nprint('Maximum value: ', retail_raw['item_price'].max())\nprint('Mean value: ', retail_raw['item_price'].mean())\nprint('Median value: ', retail_raw['item_price'].median())\nprint('Standard Deviation value: ', retail_raw['item_price'].std())",
      "metadata": {
        "trusted": true
      },
      "outputs": [
        {
          "name": "stdout",
          "text": "Kolom item_price\nMinimum value:  26000.0\nMaximum value:  29762000.0\nMean value:  933742.7311008623\nMedian value:  604000.0\nStandard Deviation value:  1030829.8104242847\n",
          "output_type": "stream"
        }
      ],
      "execution_count": 7
    },
    {
      "cell_type": "code",
      "source": "#quantile statistics \nimport pandas as pd \nimport numpy as np \nimport io \n\nretail_raw = pd.read_csv('retail_raw.csv')\n\n# Quantile statistics kolom quantity\nprint('Kolom quantity:')\nprint(retail_raw['quantity'].quantile([0.25, 0.5, 0.75]))\n\n# Tugas praktek: Quantile statistics kolom item_price\nprint('Kolom item_price:')\nprint(retail_raw['item_price'].quantile([0.25, 0.5, 0.75]))",
      "metadata": {
        "trusted": true
      },
      "outputs": [
        {
          "name": "stdout",
          "text": "Kolom quantity:\n0.25     2.0\n0.50     5.0\n0.75    12.0\nName: quantity, dtype: float64\nKolom item_price:\n0.25     450000.0\n0.50     604000.0\n0.75    1045000.0\nName: item_price, dtype: float64\n",
          "output_type": "stream"
        }
      ],
      "execution_count": 8
    },
    {
      "cell_type": "code",
      "source": "#correlation analysis \nimport pandas as pd \nimport numpy as np \nimport io \n\nretail_raw = pd.read_csv('retail_raw.csv')\n\nprint('Correlation between quantity and item_price')\nprint(retail_raw[['quantity','item_price']].corr())",
      "metadata": {
        "trusted": true
      },
      "outputs": [
        {
          "name": "stdout",
          "text": "Correlation between quantity and item_price\n            quantity  item_price\nquantity    1.000000   -0.133936\nitem_price -0.133936    1.000000\n",
          "output_type": "stream"
        }
      ],
      "execution_count": 4
    },
    {
      "cell_type": "code",
      "source": "#missing values checking1 \nimport pandas as pd \nimport numpy as np \nimport io \n\nretail_raw = pd.read_csv('retail_raw.csv')\n\n#checking\nprint('Missing values checking in each column:')\nprint(retail_raw.isnull().any())",
      "metadata": {
        "trusted": true
      },
      "outputs": [
        {
          "name": "stdout",
          "text": "Missing values checking in each column:\norder_id       False\norder_date     False\ncustomer_id    False\ncity            True\nprovince        True\nproduct_id      True\nbrand          False\nquantity        True\nitem_price      True\ndtype: bool\n",
          "output_type": "stream"
        }
      ],
      "execution_count": 10
    },
    {
      "cell_type": "code",
      "source": "#missing values checking2 \nimport pandas as pd \nimport numpy as np \nimport io\n\nretail_raw = pd.read_csv('retail_raw.csv')\n\n#checking and counting for missing values \nprint(retail_raw.isnull().sum())",
      "metadata": {
        "trusted": true
      },
      "outputs": [
        {
          "name": "stdout",
          "text": "order_id        0\norder_date      0\ncustomer_id     0\ncity           16\nprovince       12\nproduct_id     11\nbrand           0\nquantity       14\nitem_price     13\ndtype: int64\n",
          "output_type": "stream"
        }
      ],
      "execution_count": 11
    },
    {
      "cell_type": "code",
      "source": "#missing values treatment1\n#'quantity' imputation \nimport pandas as pd \nimport numpy as np \nimport io \n\nretail_raw = pd.read_csv('retail_raw.csv')\n\n#filling missing values with mean()\nprint('\\nFilling the missing values:')\nprint(retail_raw['quantity'].fillna(retail_raw['quantity'].mean()))\n\n#filling missing values with mean()\nprint('\\nFilling the missing values:')\nprint(retail_raw['item_price'].fillna(retail_raw['item_price'].mean()))\n\n# Drop missing value\nprint('\\nDrop missing value:')\nprint(retail_raw['city'].dropna())",
      "metadata": {
        "trusted": true
      },
      "outputs": [
        {
          "name": "stdout",
          "text": "\nFilling the missing values:\n0       10.0\n1        2.0\n2        8.0\n3        4.0\n4        2.0\n        ... \n4995     2.0\n4996     3.0\n4997     4.0\n4998     8.0\n4999     1.0\nName: quantity, Length: 5000, dtype: float64\n\nFilling the missing values:\n0       7.400000e+05\n1       6.040000e+05\n2       1.045000e+06\n3       2.050000e+05\n4       9.337427e+05\n            ...     \n4995    4.500000e+05\n4996    1.465000e+06\n4997    7.470000e+05\n4998    6.950000e+05\n4999    1.045000e+06\nName: item_price, Length: 5000, dtype: float64\n\nDrop missing value:\n0       Jakarta Selatan\n1       Jakarta Selatan\n2         Jakarta Utara\n3         Jakarta Barat\n4         Jakarta Timur\n             ...       \n4995          Tangerang\n4996              Bogor\n4997      Jakarta Timur\n4998      Jakarta Barat\n4999      Jakarta Pusat\nName: city, Length: 4984, dtype: object\n",
          "output_type": "stream"
        }
      ],
      "execution_count": 12
    },
    {
      "cell_type": "code",
      "source": "#outliers in 'quantity' column \nimport pandas as pd \nimport numpy as np \nimport io \n\nretail_raw = pd.read_csv('retail_raw.csv')\n\n# Q1, Q3, and IQR\nQ1 = retail_raw['quantity'].quantile(0.25)\nQ3 = retail_raw['quantity'].quantile(0.75)\nIQR = Q3 - Q1\n\n#checking size (rows and column) before remove outliers\nprint('Shape in the beginning: ', retail_raw.shape)\n\n# Removing outliers\nretail_raw = retail_raw[~((retail_raw['quantity'] < (Q1 - 1.5 * IQR)) | (retail_raw['quantity'] > (Q3 + 1.5 * IQR)))]\n\n#checking size (rows and columns) after outliers were removed\nprint('Shape in the last: ', retail_raw.shape)",
      "metadata": {
        "trusted": true
      },
      "outputs": [
        {
          "name": "stdout",
          "text": "Shape in the beginning:  (5000, 9)\nShape in the last:  (4699, 9)\n",
          "output_type": "stream"
        }
      ],
      "execution_count": 3
    },
    {
      "cell_type": "code",
      "source": "#outliers in 'item_price' column \nimport pandas as pd \nimport numpy as np \nimport io \n\nretail_raw = pd.read_csv('retail_raw.csv')\n\n# Q1, Q3, and IQR\nQ1 = retail_raw['item_price'].quantile(0.25)\nQ3 = retail_raw['item_price'].quantile(0.75)\nIQR = Q3 - Q1\n\n# Checking for size (rows and columns) before outliers being removed\nprint('Shape in the beginning: ', retail_raw.shape)\n\n# Removing outliers\nretail_raw = retail_raw[~((retail_raw['item_price'] < (Q1 - 1.5 * IQR)) | (retail_raw['item_price'] > (Q3 + 1.5 * IQR)))]\n\n# Checking for size (rows and columns) after outliers were removed  \nprint('Shape in the last: ', retail_raw.shape)",
      "metadata": {
        "trusted": true
      },
      "outputs": [
        {
          "name": "stdout",
          "text": "Shape in the beginning:  (5000, 9)\nShape in the last:  (4541, 9)\n",
          "output_type": "stream"
        }
      ],
      "execution_count": 2
    },
    {
      "cell_type": "code",
      "source": "#data duplication \nimport pandas as pd \nimport numpy as np \nimport io \n\nretail_raw = pd.read_csv('retail_raw.csv')\n\n#pre-duplicating \nprint('Shape in the beginning: ', retail_raw.shape)\n\n#throw out duplicated data \nretail_raw.drop_duplicates(inplace=True)\n\n#post-duplicating \nprint('Shape in the last: ', retail_raw.shape)",
      "metadata": {
        "trusted": true
      },
      "outputs": [
        {
          "name": "stdout",
          "text": "Shape in the beginning:  (5000, 9)\nShape in the last:  (4993, 9)\n",
          "output_type": "stream"
        }
      ],
      "execution_count": 1
    },
    {
      "cell_type": "code",
      "source": "",
      "metadata": {
        "trusted": true
      },
      "outputs": [],
      "execution_count": null
    }
  ]
}