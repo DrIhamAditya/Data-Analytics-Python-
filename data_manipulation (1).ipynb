{
  "metadata": {
    "kernelspec": {
      "name": "python",
      "display_name": "Python (Pyodide)",
      "language": "python"
    },
    "language_info": {
      "codemirror_mode": {
        "name": "python",
        "version": 3
      },
      "file_extension": ".py",
      "mimetype": "text/x-python",
      "name": "python",
      "nbconvert_exporter": "python",
      "pygments_lexer": "ipython3",
      "version": "3.8"
    }
  },
  "nbformat_minor": 4,
  "nbformat": 4,
  "cells": [
    {
      "cell_type": "code",
      "source": "#print 5 upper rows data \nimport pandas as pd \n\nretail_raw = pd.read_csv('retail_raw.csv')\nretail_raw.head()",
      "metadata": {
        "trusted": true
      },
      "outputs": [
        {
          "execution_count": 1,
          "output_type": "execute_result",
          "data": {
            "text/plain": "   order_id  order_date  customer_id             city     province product_id  \\\n0   1703458  17/10/2019        14004  Jakarta Selatan  DKI Jakarta      P1910   \n1   1706815  24/10/2019        17220  Jakarta Selatan  DKI Jakarta      P2934   \n2   1710718  03/11/2019        16518    Jakarta Utara  DKI Jakarta      P0908   \n3   1683592  19/08/2019        16364    Jakarta Barat  DKI Jakarta      P0128   \n4   1702573  16/10/2019        15696    Jakarta Timur  DKI Jakarta      P2968   \n\n     brand  quantity  item_price  \n0  BRAND_J      10.0    740000.0  \n1  BRAND_R       2.0    604000.0  \n2  BRAND_C       8.0   1045000.0  \n3  BRAND_A       4.0    205000.0  \n4  BRAND_R       2.0         NaN  ",
            "text/html": "<div>\n<style scoped>\n    .dataframe tbody tr th:only-of-type {\n        vertical-align: middle;\n    }\n\n    .dataframe tbody tr th {\n        vertical-align: top;\n    }\n\n    .dataframe thead th {\n        text-align: right;\n    }\n</style>\n<table border=\"1\" class=\"dataframe\">\n  <thead>\n    <tr style=\"text-align: right;\">\n      <th></th>\n      <th>order_id</th>\n      <th>order_date</th>\n      <th>customer_id</th>\n      <th>city</th>\n      <th>province</th>\n      <th>product_id</th>\n      <th>brand</th>\n      <th>quantity</th>\n      <th>item_price</th>\n    </tr>\n  </thead>\n  <tbody>\n    <tr>\n      <th>0</th>\n      <td>1703458</td>\n      <td>17/10/2019</td>\n      <td>14004</td>\n      <td>Jakarta Selatan</td>\n      <td>DKI Jakarta</td>\n      <td>P1910</td>\n      <td>BRAND_J</td>\n      <td>10.0</td>\n      <td>740000.0</td>\n    </tr>\n    <tr>\n      <th>1</th>\n      <td>1706815</td>\n      <td>24/10/2019</td>\n      <td>17220</td>\n      <td>Jakarta Selatan</td>\n      <td>DKI Jakarta</td>\n      <td>P2934</td>\n      <td>BRAND_R</td>\n      <td>2.0</td>\n      <td>604000.0</td>\n    </tr>\n    <tr>\n      <th>2</th>\n      <td>1710718</td>\n      <td>03/11/2019</td>\n      <td>16518</td>\n      <td>Jakarta Utara</td>\n      <td>DKI Jakarta</td>\n      <td>P0908</td>\n      <td>BRAND_C</td>\n      <td>8.0</td>\n      <td>1045000.0</td>\n    </tr>\n    <tr>\n      <th>3</th>\n      <td>1683592</td>\n      <td>19/08/2019</td>\n      <td>16364</td>\n      <td>Jakarta Barat</td>\n      <td>DKI Jakarta</td>\n      <td>P0128</td>\n      <td>BRAND_A</td>\n      <td>4.0</td>\n      <td>205000.0</td>\n    </tr>\n    <tr>\n      <th>4</th>\n      <td>1702573</td>\n      <td>16/10/2019</td>\n      <td>15696</td>\n      <td>Jakarta Timur</td>\n      <td>DKI Jakarta</td>\n      <td>P2968</td>\n      <td>BRAND_R</td>\n      <td>2.0</td>\n      <td>NaN</td>\n    </tr>\n  </tbody>\n</table>\n</div>"
          },
          "metadata": {}
        }
      ],
      "execution_count": 1
    },
    {
      "cell_type": "code",
      "source": "#print 5 lower rows data \nimport pandas as pd \n\nretail_raw = pd.read_csv('retail_raw.csv')\nretail_raw.tail()",
      "metadata": {
        "trusted": true
      },
      "outputs": [
        {
          "execution_count": 2,
          "output_type": "execute_result",
          "data": {
            "text/plain": "      order_id  order_date  customer_id           city     province  \\\n4995   1724011  01/12/2019        12838      Tangerang       Banten   \n4996   1676302  28/07/2019        13833          Bogor   Jawa Barat   \n4997   1706071  23/10/2019        16332  Jakarta Timur  DKI Jakarta   \n4998   1703620  17/10/2019        13055  Jakarta Barat  DKI Jakarta   \n4999   1720036  24/11/2019        17609  Jakarta Pusat  DKI Jakarta   \n\n     product_id    brand  quantity  item_price  \n4995      P3047  BRAND_R       2.0    450000.0  \n4996      P0760  BRAND_C       3.0   1465000.0  \n4997      P1681  BRAND_H       4.0    747000.0  \n4998      P0757  BRAND_C       8.0    695000.0  \n4999      P3334  BRAND_S       1.0   1045000.0  ",
            "text/html": "<div>\n<style scoped>\n    .dataframe tbody tr th:only-of-type {\n        vertical-align: middle;\n    }\n\n    .dataframe tbody tr th {\n        vertical-align: top;\n    }\n\n    .dataframe thead th {\n        text-align: right;\n    }\n</style>\n<table border=\"1\" class=\"dataframe\">\n  <thead>\n    <tr style=\"text-align: right;\">\n      <th></th>\n      <th>order_id</th>\n      <th>order_date</th>\n      <th>customer_id</th>\n      <th>city</th>\n      <th>province</th>\n      <th>product_id</th>\n      <th>brand</th>\n      <th>quantity</th>\n      <th>item_price</th>\n    </tr>\n  </thead>\n  <tbody>\n    <tr>\n      <th>4995</th>\n      <td>1724011</td>\n      <td>01/12/2019</td>\n      <td>12838</td>\n      <td>Tangerang</td>\n      <td>Banten</td>\n      <td>P3047</td>\n      <td>BRAND_R</td>\n      <td>2.0</td>\n      <td>450000.0</td>\n    </tr>\n    <tr>\n      <th>4996</th>\n      <td>1676302</td>\n      <td>28/07/2019</td>\n      <td>13833</td>\n      <td>Bogor</td>\n      <td>Jawa Barat</td>\n      <td>P0760</td>\n      <td>BRAND_C</td>\n      <td>3.0</td>\n      <td>1465000.0</td>\n    </tr>\n    <tr>\n      <th>4997</th>\n      <td>1706071</td>\n      <td>23/10/2019</td>\n      <td>16332</td>\n      <td>Jakarta Timur</td>\n      <td>DKI Jakarta</td>\n      <td>P1681</td>\n      <td>BRAND_H</td>\n      <td>4.0</td>\n      <td>747000.0</td>\n    </tr>\n    <tr>\n      <th>4998</th>\n      <td>1703620</td>\n      <td>17/10/2019</td>\n      <td>13055</td>\n      <td>Jakarta Barat</td>\n      <td>DKI Jakarta</td>\n      <td>P0757</td>\n      <td>BRAND_C</td>\n      <td>8.0</td>\n      <td>695000.0</td>\n    </tr>\n    <tr>\n      <th>4999</th>\n      <td>1720036</td>\n      <td>24/11/2019</td>\n      <td>17609</td>\n      <td>Jakarta Pusat</td>\n      <td>DKI Jakarta</td>\n      <td>P3334</td>\n      <td>BRAND_S</td>\n      <td>1.0</td>\n      <td>1045000.0</td>\n    </tr>\n  </tbody>\n</table>\n</div>"
          },
          "metadata": {}
        }
      ],
      "execution_count": 2
    },
    {
      "cell_type": "code",
      "source": "#The Python code performs multi-index slicing on a DataFrame by setting 'order_date' and 'order_id' as the indices \nimport pandas as pd\nretail_raw = pd.read_csv('retail_raw.csv')\n\nretail_raw = retail_raw.set_index(['order_date','order_id'])\nretail_raw_slice = retail_raw.loc[('01/12/2019',1724011),:]\nretail_raw_slice.head()",
      "metadata": {
        "trusted": true
      },
      "outputs": [
        {
          "name": "stderr",
          "text": "<ipython-input-6-8a637e542bc4>:7: PerformanceWarning: indexing past lexsort depth may impact performance.\n  retail_raw_slice = retail_raw.loc[('01/12/2019',1724011),:]\n",
          "output_type": "stream"
        },
        {
          "execution_count": 6,
          "output_type": "execute_result",
          "data": {
            "text/plain": "                     customer_id       city province product_id    brand  \\\norder_date order_id                                                        \n01/12/2019 1724011         12838  Tangerang   Banten      P4071  BRAND_W   \n           1724011         12838  Tangerang   Banten      P0875  BRAND_C   \n           1724011         12838  Tangerang   Banten      P3047  BRAND_R   \n\n                     quantity  item_price  \norder_date order_id                        \n01/12/2019 1724011        2.0   1045000.0  \n           1724011        1.0    590000.0  \n           1724011        2.0    450000.0  ",
            "text/html": "<div>\n<style scoped>\n    .dataframe tbody tr th:only-of-type {\n        vertical-align: middle;\n    }\n\n    .dataframe tbody tr th {\n        vertical-align: top;\n    }\n\n    .dataframe thead th {\n        text-align: right;\n    }\n</style>\n<table border=\"1\" class=\"dataframe\">\n  <thead>\n    <tr style=\"text-align: right;\">\n      <th></th>\n      <th></th>\n      <th>customer_id</th>\n      <th>city</th>\n      <th>province</th>\n      <th>product_id</th>\n      <th>brand</th>\n      <th>quantity</th>\n      <th>item_price</th>\n    </tr>\n    <tr>\n      <th>order_date</th>\n      <th>order_id</th>\n      <th></th>\n      <th></th>\n      <th></th>\n      <th></th>\n      <th></th>\n      <th></th>\n      <th></th>\n    </tr>\n  </thead>\n  <tbody>\n    <tr>\n      <th rowspan=\"3\" valign=\"top\">01/12/2019</th>\n      <th>1724011</th>\n      <td>12838</td>\n      <td>Tangerang</td>\n      <td>Banten</td>\n      <td>P4071</td>\n      <td>BRAND_W</td>\n      <td>2.0</td>\n      <td>1045000.0</td>\n    </tr>\n    <tr>\n      <th>1724011</th>\n      <td>12838</td>\n      <td>Tangerang</td>\n      <td>Banten</td>\n      <td>P0875</td>\n      <td>BRAND_C</td>\n      <td>1.0</td>\n      <td>590000.0</td>\n    </tr>\n    <tr>\n      <th>1724011</th>\n      <td>12838</td>\n      <td>Tangerang</td>\n      <td>Banten</td>\n      <td>P3047</td>\n      <td>BRAND_R</td>\n      <td>2.0</td>\n      <td>450000.0</td>\n    </tr>\n  </tbody>\n</table>\n</div>"
          },
          "metadata": {}
        }
      ],
      "execution_count": 6
    },
    {
      "cell_type": "code",
      "source": "#reveals informations of dataset\nimport pandas as pd\n\nretail_raw = pd.read_csv('retail_raw.csv')\nprint('data types of each column:', retail_raw.dtypes)\n\nretail_raw['order_date'] = pd.to_datetime(retail_raw['order_date'])\nprint(\"\\nTipe data df setelah transformasi:\\n\", retail_raw.dtypes)",
      "metadata": {
        "trusted": true
      },
      "outputs": [
        {
          "name": "stdout",
          "text": "data types of each column: order_id         int64\norder_date      object\ncustomer_id      int64\ncity            object\nprovince        object\nproduct_id      object\nbrand           object\nquantity       float64\nitem_price     float64\ndtype: object\n",
          "output_type": "stream"
        },
        {
          "name": "stderr",
          "text": "<ipython-input-26-cb745a9fceb6>:7: UserWarning: Parsing dates in DD/MM/YYYY format when dayfirst=False (the default) was specified. This may lead to inconsistently parsed dates! Specify a format to ensure consistent parsing.\n  retail_raw['order_date'] = pd.to_datetime(retail_raw['order_date'])\n",
          "output_type": "stream"
        },
        {
          "name": "stdout",
          "text": "\nTipe data df setelah transformasi:\n order_id                int64\norder_date     datetime64[ns]\ncustomer_id             int64\ncity                   object\nprovince               object\nproduct_id             object\nbrand                  object\nquantity              float64\nitem_price            float64\ndtype: object\n",
          "output_type": "stream"
        }
      ],
      "execution_count": 26
    },
    {
      "cell_type": "code",
      "source": "#reveal and change data types in the dataset \nimport pandas as pd\n\nretail_raw = pd.read_csv('retail_raw.csv')\nprint(\"data types of each column:\\n\", retail_raw.dtypes)\n\nretail_raw['quantity'] = pd.to_numeric(retail_raw['quantity'], downcast=\"float\")\nretail_raw['province'] = retail_raw['province'].astype('category')\nretail_raw['city'] = retail_raw['city'].astype('category')\nretail_raw['brand'] = retail_raw['brand'].astype('category')\n\nprint(\"\\nTipe data setelah transformasi:\\n\", retail_raw.dtypes)",
      "metadata": {
        "trusted": true
      },
      "outputs": [
        {
          "name": "stdout",
          "text": "data types of each column:\n order_id         int64\norder_date      object\ncustomer_id      int64\ncity            object\nprovince        object\nproduct_id      object\nbrand           object\nquantity       float64\nitem_price     float64\ndtype: object\n\nTipe data setelah transformasi:\n order_id          int64\norder_date       object\ncustomer_id       int64\ncity           category\nprovince       category\nproduct_id       object\nbrand          category\nquantity        float32\nitem_price      float64\ndtype: object\n",
          "output_type": "stream"
        }
      ],
      "execution_count": 27
    },
    {
      "cell_type": "code",
      "source": "#transform the metadata \nimport pandas as pd\n\nretail_raw = pd.read_csv('retail_raw.csv')\n\nprint('top 5 rows of the brand column:\\n', retail_raw['brand'].head())\nretail_raw['brand'] = retail_raw['brand'].apply(lambda x: x.lower())\nprint('top 5 rows of the brand column again:\\n', retail_raw['brand'].head())\n\nretail_raw['brand'] = retail_raw['brand'].map(lambda x: x[-1])\nprint('top 5 rows of the brand column again:\\n', retail_raw['brand'].head())",
      "metadata": {
        "trusted": true
      },
      "outputs": [
        {
          "name": "stdout",
          "text": "top 5 rows of the brand column:\n 0    BRAND_J\n1    BRAND_R\n2    BRAND_C\n3    BRAND_A\n4    BRAND_R\nName: brand, dtype: object\ntop 5 rows of the brand column again:\n 0    brand_j\n1    brand_r\n2    brand_c\n3    brand_a\n4    brand_r\nName: brand, dtype: object\ntop 5 rows of the brand column again:\n 0    j\n1    r\n2    c\n3    a\n4    r\nName: brand, dtype: object\n",
          "output_type": "stream"
        }
      ],
      "execution_count": 28
    },
    {
      "cell_type": "code",
      "source": "#counting for missing values in each columns \nimport pandas as pd \n\nretail_raw = pd.read_csv('retail_raw.csv')\nmv = retail_raw.isna().sum()\nprint('amount of missing values for each column:\\n', mv)",
      "metadata": {
        "trusted": true
      },
      "outputs": [
        {
          "name": "stdout",
          "text": "amount of missing values for each column:\n order_id        0\norder_date      0\ncustomer_id     0\ncity           16\nprovince       12\nproduct_id     11\nbrand           0\nquantity       14\nitem_price     13\ndtype: int64\n",
          "output_type": "stream"
        }
      ],
      "execution_count": 30
    },
    {
      "cell_type": "code",
      "source": "#dropping out the missing values \nimport pandas as pd\n\nretail_raw = pd.read_csv('retail_raw.csv')\n\nprint('the initial size of the DataFrame: %d baris, %d kolom.' % retail_raw.shape)\nretail_raw = retail_raw.dropna(axis=1, how='all')\n\nprint('the initial size of the DataFrame with missing values: %d baris, %d kolom.' % retail_raw.shape)\nretail_raw = retail_raw.dropna(axis=0, how='any')\n\nprint('dataframe size after remaining at least 1 missing values: %d baris, %d kolom.' % retail_raw.shape)",
      "metadata": {
        "trusted": true
      },
      "outputs": [
        {
          "name": "stdout",
          "text": "the initial size of the DataFrame: 5000 baris, 9 kolom.\nthe initial size of the DataFrame with missing values: 5000 baris, 9 kolom.\ndataframe size after remaining at least 1 missing values: 4935 baris, 9 kolom.\n",
          "output_type": "stream"
        }
      ],
      "execution_count": 31
    },
    {
      "cell_type": "code",
      "source": "#filling any missing values with 'unknown_city' and 'unknown_province'\nimport pandas as pd \n\nretail_raw = pd.read_csv('retail_raw.csv')\n                         \nprint('Unique value awal:\\n', retail_raw['city'].unique())\nprint('Unique value awal:\\n', retail_raw['province'].unique())\n\nretail_raw['city'] = retail_raw['city'].fillna('unknown_city')\nretail_raw['province'] = retail_raw['province'].fillna('unknown_province')\n\nprint('Unique value setelah fillna:\\n', retail_raw['province'].unique())\nprint('Unique value setelah fillna:\\n', retail_raw['city'].unique())",
      "metadata": {
        "trusted": true
      },
      "outputs": [
        {
          "name": "stdout",
          "text": "Unique value awal:\n ['Jakarta Selatan' 'Jakarta Utara' 'Jakarta Barat' 'Jakarta Timur'\n 'Surakarta' 'Tangerang' 'Denpasar' 'Surabaya' 'Jakarta Pusat' 'Bogor'\n 'Bandung' 'Yogyakarta' 'Malang' 'Bekasi' 'Depok' 'Semarang' 'Purwokerto'\n nan 'Ubud']\nUnique value awal:\n ['DKI Jakarta' 'Jawa Tengah' 'Banten' 'Bali' 'Jawa Timur' 'Jawa Barat'\n 'Yogyakarta' nan]\nUnique value setelah fillna:\n ['DKI Jakarta' 'Jawa Tengah' 'Banten' 'Bali' 'Jawa Timur' 'Jawa Barat'\n 'Yogyakarta' 'unknown_province']\nUnique value setelah fillna:\n ['Jakarta Selatan' 'Jakarta Utara' 'Jakarta Barat' 'Jakarta Timur'\n 'Surakarta' 'Tangerang' 'Denpasar' 'Surabaya' 'Jakarta Pusat' 'Bogor'\n 'Bandung' 'Yogyakarta' 'Malang' 'Bekasi' 'Depok' 'Semarang' 'Purwokerto'\n 'unknown_city' 'Ubud']\n",
          "output_type": "stream"
        }
      ],
      "execution_count": 1
    },
    {
      "cell_type": "code",
      "source": "#filling missing values in column product_id with 'unknown_productID'\nimport pandas as pd \n\nretail_raw = pd.read_csv('retail_raw.csv')\n\nprint('Unique value awal:\\n', retail_raw['product_id'].unique())\nretail_raw['product_id'] = retail_raw['product_id'].fillna('unknown_productID')\nprint('Unique value setelah fillna:\\n', retail_raw['product_id'].unique())",
      "metadata": {
        "trusted": true
      },
      "outputs": [
        {
          "name": "stdout",
          "text": "Unique value awal:\n ['P1910' 'P2934' 'P0908' ... 'P0250' 'P2487' 'P0725']\nUnique value setelah fillna:\n ['P1910' 'P2934' 'P0908' ... 'P0250' 'P2487' 'P0725']\n",
          "output_type": "stream"
        }
      ],
      "execution_count": 11
    },
    {
      "cell_type": "code",
      "source": "#filling missing values in column quantity with its mean or median \nimport pandas as pd \n\nretail_raw = pd.read_csv('retail_raw.csv')\n\nprint('First: mean = %f, median = %f.' % (retail_raw['quantity'].mean(), retail_raw['quantity'].median()))\nretail_median = retail_raw[\"quantity\"].fillna(retail_raw[\"quantity\"].median())\n\nprint('Fillna median: mean = %f, median = %f.' % (retail_median.mean(), retail_median.median()))\nretail_mean = retail_raw[\"quantity\"].fillna(retail_raw['quantity'].mean())\n\nprint('Fillna mean: mean = %f, median = %f.' % (retail_mean.mean(), retail_mean.median()))",
      "metadata": {
        "trusted": true
      },
      "outputs": [
        {
          "name": "stdout",
          "text": "Awal: mean = 11.423987, median = 5.000000.\nFillna median: mean = 11.406000, median = 5.000000.\nFillna mean: mean = 11.423987, median = 5.000000.\n",
          "output_type": "stream"
        }
      ],
      "execution_count": 8
    },
    {
      "cell_type": "code",
      "source": "#filling missing values in item_price column with its mean and median \nimport pandas as pd \n\nretail_raw = pd.read_csv('retail_raw.csv')\n\nprint('First: mean = %f, median = %f.' % (retail_raw['item_price'].mean(), retail_raw['item_price'].median()))\nretail_median = retail_raw['item_price'].fillna(retail_raw['item_price'].median())\n\nprint('Fillna median: mean = %f, median = %f.' % (retail_median.mean(), retail_median.median()))\nretail_mean = retail_raw['item_price'].fillna(retail_raw['item_price'].mean())\n\nprint('Fillna mean: mean = %f, median = %f.' % (retail_mean.mean(), retail_mean.median()))",
      "metadata": {
        "trusted": true
      },
      "outputs": [
        {
          "name": "stdout",
          "text": "Awal: mean = 933742.731101, median = 604000.000000.\nFillna median: mean = 932885.400000, median = 604000.000000.\nFillna mean: mean = 933742.731101, median = 604000.000000.\n",
          "output_type": "stream"
        }
      ],
      "execution_count": 7
    },
    {
      "cell_type": "code",
      "source": "#concatenates three separate DataFrames (brand_c, brand_s, brand_r) into a single DataFrame (result)\nimport pandas as pd \n\nretail_raw = pd.read_csv('retail_raw.csv')\n\nbrand_c = pd.DataFrame({\n    'brand':['brand_c','brand_c','brand_c','brand_c'],\n    'city' :['Jakarta Utara','Jakarta Utara','Jakarta Barat','Jakarta Pusat'],\n    'province':['DKI Jakarta','DKI Jakarta','DKI Jakarta','DKI Jakarta'], \n})\nbrand_s = pd.DataFrame({\n    'brand':['brand_s','brand_s','brand_s'], \n    'city':['Surakarta','Jakarta Barat','Tangerang'],\n    'province':['Jawa Tengah','DKI Jakarta','Banten'], \n})\nbrand_r = pd.DataFrame({\n    'brand':['brand_r','brand_r','brand_r'],\n    'city':['Jakarta Timur','Denpasar','Bogor'], \n    'province':['DKI Jakarta','Bali','Jawa Barat'],\n})\nframes = [brand_c, brand_s, brand_r]\nresult = pd.concat(frames)\nresult",
      "metadata": {
        "trusted": true
      },
      "outputs": [
        {
          "execution_count": 12,
          "output_type": "execute_result",
          "data": {
            "text/plain": "     brand           city     province\n0  brand_c  Jakarta Utara  DKI Jakarta\n1  brand_c  Jakarta Utara  DKI Jakarta\n2  brand_c  Jakarta Barat  DKI Jakarta\n3  brand_c  Jakarta Pusat  DKI Jakarta\n0  brand_s      Surakarta  Jawa Tengah\n1  brand_s  Jakarta Barat  DKI Jakarta\n2  brand_s      Tangerang       Banten\n0  brand_r  Jakarta Timur  DKI Jakarta\n1  brand_r       Denpasar         Bali\n2  brand_r          Bogor   Jawa Barat",
            "text/html": "<div>\n<style scoped>\n    .dataframe tbody tr th:only-of-type {\n        vertical-align: middle;\n    }\n\n    .dataframe tbody tr th {\n        vertical-align: top;\n    }\n\n    .dataframe thead th {\n        text-align: right;\n    }\n</style>\n<table border=\"1\" class=\"dataframe\">\n  <thead>\n    <tr style=\"text-align: right;\">\n      <th></th>\n      <th>brand</th>\n      <th>city</th>\n      <th>province</th>\n    </tr>\n  </thead>\n  <tbody>\n    <tr>\n      <th>0</th>\n      <td>brand_c</td>\n      <td>Jakarta Utara</td>\n      <td>DKI Jakarta</td>\n    </tr>\n    <tr>\n      <th>1</th>\n      <td>brand_c</td>\n      <td>Jakarta Utara</td>\n      <td>DKI Jakarta</td>\n    </tr>\n    <tr>\n      <th>2</th>\n      <td>brand_c</td>\n      <td>Jakarta Barat</td>\n      <td>DKI Jakarta</td>\n    </tr>\n    <tr>\n      <th>3</th>\n      <td>brand_c</td>\n      <td>Jakarta Pusat</td>\n      <td>DKI Jakarta</td>\n    </tr>\n    <tr>\n      <th>0</th>\n      <td>brand_s</td>\n      <td>Surakarta</td>\n      <td>Jawa Tengah</td>\n    </tr>\n    <tr>\n      <th>1</th>\n      <td>brand_s</td>\n      <td>Jakarta Barat</td>\n      <td>DKI Jakarta</td>\n    </tr>\n    <tr>\n      <th>2</th>\n      <td>brand_s</td>\n      <td>Tangerang</td>\n      <td>Banten</td>\n    </tr>\n    <tr>\n      <th>0</th>\n      <td>brand_r</td>\n      <td>Jakarta Timur</td>\n      <td>DKI Jakarta</td>\n    </tr>\n    <tr>\n      <th>1</th>\n      <td>brand_r</td>\n      <td>Denpasar</td>\n      <td>Bali</td>\n    </tr>\n    <tr>\n      <th>2</th>\n      <td>brand_r</td>\n      <td>Bogor</td>\n      <td>Jawa Barat</td>\n    </tr>\n  </tbody>\n</table>\n</div>"
          },
          "metadata": {}
        }
      ],
      "execution_count": 12
    },
    {
      "cell_type": "code",
      "source": "#concatenates a DataFrame (brand_c) with a Series (s2) converted to a DataFrame\nimport pandas as pd \n\nbrand_c = pd.DataFrame({\n    'brand':['brand_c','brand_c','brand_c','brand_c'],\n    'city' :['Jakarta Utara','Jakarta Utara','Jakarta Barat','Jakarta Pusat'],\n    'province':['DKI Jakarta','DKI Jakarta','DKI Jakarta','DKI Jakarta'], \n    'quantity':[2.0, 1.0, 6.3, 4.6],\n})\ns2 = pd.Series(['brand_i', 'Tabanan','Bali', 4.6], index=['brand','city','province','quantity'])\nresult = pd.concat([brand_c, s2.to_frame().T], ignore_index=True)\nresult ",
      "metadata": {
        "trusted": true
      },
      "outputs": [
        {
          "execution_count": 41,
          "output_type": "execute_result",
          "data": {
            "text/plain": "     brand           city     province quantity\n0  brand_c  Jakarta Utara  DKI Jakarta      2.0\n1  brand_c  Jakarta Utara  DKI Jakarta      1.0\n2  brand_c  Jakarta Barat  DKI Jakarta      6.3\n3  brand_c  Jakarta Pusat  DKI Jakarta      4.6\n4  brand_i        Tabanan         Bali      4.6",
            "text/html": "<div>\n<style scoped>\n    .dataframe tbody tr th:only-of-type {\n        vertical-align: middle;\n    }\n\n    .dataframe tbody tr th {\n        vertical-align: top;\n    }\n\n    .dataframe thead th {\n        text-align: right;\n    }\n</style>\n<table border=\"1\" class=\"dataframe\">\n  <thead>\n    <tr style=\"text-align: right;\">\n      <th></th>\n      <th>brand</th>\n      <th>city</th>\n      <th>province</th>\n      <th>quantity</th>\n    </tr>\n  </thead>\n  <tbody>\n    <tr>\n      <th>0</th>\n      <td>brand_c</td>\n      <td>Jakarta Utara</td>\n      <td>DKI Jakarta</td>\n      <td>2.0</td>\n    </tr>\n    <tr>\n      <th>1</th>\n      <td>brand_c</td>\n      <td>Jakarta Utara</td>\n      <td>DKI Jakarta</td>\n      <td>1.0</td>\n    </tr>\n    <tr>\n      <th>2</th>\n      <td>brand_c</td>\n      <td>Jakarta Barat</td>\n      <td>DKI Jakarta</td>\n      <td>6.3</td>\n    </tr>\n    <tr>\n      <th>3</th>\n      <td>brand_c</td>\n      <td>Jakarta Pusat</td>\n      <td>DKI Jakarta</td>\n      <td>4.6</td>\n    </tr>\n    <tr>\n      <th>4</th>\n      <td>brand_i</td>\n      <td>Tabanan</td>\n      <td>Bali</td>\n      <td>4.6</td>\n    </tr>\n  </tbody>\n</table>\n</div>"
          },
          "metadata": {}
        }
      ],
      "execution_count": 41
    },
    {
      "cell_type": "code",
      "source": "#performs a left outer join on two DataFrames (product and location) using the pd.merge function\nimport pandas as pd \nimport numpy as np \n\nproduct = pd.DataFrame(\n    {\n    'product_id':['P0908','P0710',np.nan,'P3342','P3203'],\n    'brand':['brand_c','brand_c','brand_i','brand_s','brand_s'],\n    'quantity':[2.0,1.0,np.nan,2.0,32.0],\n    }\n)\nlocation = pd.DataFrame(\n    {\n    'product_id':['P0908','P0710',np.nan,'P3342','P3203'],\n    'item_price':[1045000.0,520000.0,np.nan,205000.0,450000.0]\n    }\n)\nresult = pd.merge(product, location, how='left', on='product_id')\nresult",
      "metadata": {
        "trusted": true
      },
      "outputs": [
        {
          "execution_count": 46,
          "output_type": "execute_result",
          "data": {
            "text/plain": "  product_id    brand  quantity  item_price\n0      P0908  brand_c       2.0   1045000.0\n1      P0710  brand_c       1.0    520000.0\n2        NaN  brand_i       NaN         NaN\n3      P3342  brand_s       2.0    205000.0\n4      P3203  brand_s      32.0    450000.0",
            "text/html": "<div>\n<style scoped>\n    .dataframe tbody tr th:only-of-type {\n        vertical-align: middle;\n    }\n\n    .dataframe tbody tr th {\n        vertical-align: top;\n    }\n\n    .dataframe thead th {\n        text-align: right;\n    }\n</style>\n<table border=\"1\" class=\"dataframe\">\n  <thead>\n    <tr style=\"text-align: right;\">\n      <th></th>\n      <th>product_id</th>\n      <th>brand</th>\n      <th>quantity</th>\n      <th>item_price</th>\n    </tr>\n  </thead>\n  <tbody>\n    <tr>\n      <th>0</th>\n      <td>P0908</td>\n      <td>brand_c</td>\n      <td>2.0</td>\n      <td>1045000.0</td>\n    </tr>\n    <tr>\n      <th>1</th>\n      <td>P0710</td>\n      <td>brand_c</td>\n      <td>1.0</td>\n      <td>520000.0</td>\n    </tr>\n    <tr>\n      <th>2</th>\n      <td>NaN</td>\n      <td>brand_i</td>\n      <td>NaN</td>\n      <td>NaN</td>\n    </tr>\n    <tr>\n      <th>3</th>\n      <td>P3342</td>\n      <td>brand_s</td>\n      <td>2.0</td>\n      <td>205000.0</td>\n    </tr>\n    <tr>\n      <th>4</th>\n      <td>P3203</td>\n      <td>brand_s</td>\n      <td>32.0</td>\n      <td>450000.0</td>\n    </tr>\n  </tbody>\n</table>\n</div>"
          },
          "metadata": {}
        }
      ],
      "execution_count": 46
    },
    {
      "cell_type": "code",
      "source": "#performs a full outer join on two DataFrames (product and location) using the pd.merge function\nimport pandas as pd\nimport numpy as np\n\nproduct = pd.DataFrame(\n    {\n    'product_id':['P0908','P0710',np.nan,'P3342','P3203'],\n    'brand':['brand_c','brand_c','brand_i','brand_s','brand_s'],\n    'quantity':[2.0,1.0,np.nan,2.0,32.0],\n    }\n)\nlocation = pd.DataFrame(\n    {\n    'product_id':['P0908','P0710',np.nan,'P3342','P3203'],\n    'item_price':[1045000.0,520000.0,np.nan,205000.0,450000.0]\n    }\n)\nresult = pd.merge(product, location, on='product_id', how='outer', indicator=True)\nresult",
      "metadata": {
        "trusted": true
      },
      "outputs": [
        {
          "execution_count": 36,
          "output_type": "execute_result",
          "data": {
            "text/plain": "  product_id    brand  quantity  item_price _merge\n0      P0908  brand_c       2.0   1045000.0   both\n1      P0710  brand_c       1.0    520000.0   both\n2        NaN  brand_i       NaN         NaN   both\n3      P3342  brand_s       2.0    205000.0   both\n4      P3203  brand_s      32.0    450000.0   both",
            "text/html": "<div>\n<style scoped>\n    .dataframe tbody tr th:only-of-type {\n        vertical-align: middle;\n    }\n\n    .dataframe tbody tr th {\n        vertical-align: top;\n    }\n\n    .dataframe thead th {\n        text-align: right;\n    }\n</style>\n<table border=\"1\" class=\"dataframe\">\n  <thead>\n    <tr style=\"text-align: right;\">\n      <th></th>\n      <th>product_id</th>\n      <th>brand</th>\n      <th>quantity</th>\n      <th>item_price</th>\n      <th>_merge</th>\n    </tr>\n  </thead>\n  <tbody>\n    <tr>\n      <th>0</th>\n      <td>P0908</td>\n      <td>brand_c</td>\n      <td>2.0</td>\n      <td>1045000.0</td>\n      <td>both</td>\n    </tr>\n    <tr>\n      <th>1</th>\n      <td>P0710</td>\n      <td>brand_c</td>\n      <td>1.0</td>\n      <td>520000.0</td>\n      <td>both</td>\n    </tr>\n    <tr>\n      <th>2</th>\n      <td>NaN</td>\n      <td>brand_i</td>\n      <td>NaN</td>\n      <td>NaN</td>\n      <td>both</td>\n    </tr>\n    <tr>\n      <th>3</th>\n      <td>P3342</td>\n      <td>brand_s</td>\n      <td>2.0</td>\n      <td>205000.0</td>\n      <td>both</td>\n    </tr>\n    <tr>\n      <th>4</th>\n      <td>P3203</td>\n      <td>brand_s</td>\n      <td>32.0</td>\n      <td>450000.0</td>\n      <td>both</td>\n    </tr>\n  </tbody>\n</table>\n</div>"
          },
          "metadata": {}
        }
      ],
      "execution_count": 36
    },
    {
      "cell_type": "code",
      "source": "#Inner Join with multiple columns\nimport pandas as pd\n\ndata1 = pd.DataFrame(\n   {'brand': ['brand_a', 'brand_a', 'brand_h'], 'city': ['Jakarta Barat', 'Jakarta Selatan', 'Tangerang']},\n)\ndata2 = pd.DataFrame(\n    {'customer_id': ['16364', '17422', '14723'], \n     'province': ['DKI Jakarta', 'DKI Jakarta', 'Banten'], \n     'brand': ['brand_a', 'brand_a', 'brand_h']}\n)\nresult = data2.join(data1.set_index(['brand']), on='brand', how='inner')\nresult",
      "metadata": {
        "trusted": true
      },
      "outputs": [
        {
          "execution_count": 35,
          "output_type": "execute_result",
          "data": {
            "text/plain": "  customer_id     province    brand             city\n0       16364  DKI Jakarta  brand_a    Jakarta Barat\n0       16364  DKI Jakarta  brand_a  Jakarta Selatan\n1       17422  DKI Jakarta  brand_a    Jakarta Barat\n1       17422  DKI Jakarta  brand_a  Jakarta Selatan\n2       14723       Banten  brand_h        Tangerang",
            "text/html": "<div>\n<style scoped>\n    .dataframe tbody tr th:only-of-type {\n        vertical-align: middle;\n    }\n\n    .dataframe tbody tr th {\n        vertical-align: top;\n    }\n\n    .dataframe thead th {\n        text-align: right;\n    }\n</style>\n<table border=\"1\" class=\"dataframe\">\n  <thead>\n    <tr style=\"text-align: right;\">\n      <th></th>\n      <th>customer_id</th>\n      <th>province</th>\n      <th>brand</th>\n      <th>city</th>\n    </tr>\n  </thead>\n  <tbody>\n    <tr>\n      <th>0</th>\n      <td>16364</td>\n      <td>DKI Jakarta</td>\n      <td>brand_a</td>\n      <td>Jakarta Barat</td>\n    </tr>\n    <tr>\n      <th>0</th>\n      <td>16364</td>\n      <td>DKI Jakarta</td>\n      <td>brand_a</td>\n      <td>Jakarta Selatan</td>\n    </tr>\n    <tr>\n      <th>1</th>\n      <td>17422</td>\n      <td>DKI Jakarta</td>\n      <td>brand_a</td>\n      <td>Jakarta Barat</td>\n    </tr>\n    <tr>\n      <th>1</th>\n      <td>17422</td>\n      <td>DKI Jakarta</td>\n      <td>brand_a</td>\n      <td>Jakarta Selatan</td>\n    </tr>\n    <tr>\n      <th>2</th>\n      <td>14723</td>\n      <td>Banten</td>\n      <td>brand_h</td>\n      <td>Tangerang</td>\n    </tr>\n  </tbody>\n</table>\n</div>"
          },
          "metadata": {}
        }
      ],
      "execution_count": 35
    },
    {
      "cell_type": "code",
      "source": "#Right Join with handling missing values\nimport pandas as pd\n\ndata1 = pd.DataFrame(\n   {'brand': ['brand_a', 'brand_b', 'brand_h'], 'city': ['Jakarta Barat', 'Jakarta Utara', 'Tangerang']},\n)\ndata2 = pd.DataFrame(\n    {'customer_id': ['16364', '17422', '14723'], \n     'province': ['DKI Jakarta', 'DKI Jakarta', 'Banten'], \n     'brand': ['brand_a', 'brand_a', 'brand_i']}\n)\nresult = data1.join(data2.set_index(['brand']), on='brand', how='right')\nresult",
      "metadata": {
        "trusted": true
      },
      "outputs": [
        {
          "execution_count": 34,
          "output_type": "execute_result",
          "data": {
            "text/plain": "       brand           city customer_id     province\n0.0  brand_a  Jakarta Barat       16364  DKI Jakarta\n0.0  brand_a  Jakarta Barat       17422  DKI Jakarta\nNaN  brand_i            NaN       14723       Banten",
            "text/html": "<div>\n<style scoped>\n    .dataframe tbody tr th:only-of-type {\n        vertical-align: middle;\n    }\n\n    .dataframe tbody tr th {\n        vertical-align: top;\n    }\n\n    .dataframe thead th {\n        text-align: right;\n    }\n</style>\n<table border=\"1\" class=\"dataframe\">\n  <thead>\n    <tr style=\"text-align: right;\">\n      <th></th>\n      <th>brand</th>\n      <th>city</th>\n      <th>customer_id</th>\n      <th>province</th>\n    </tr>\n  </thead>\n  <tbody>\n    <tr>\n      <th>0.0</th>\n      <td>brand_a</td>\n      <td>Jakarta Barat</td>\n      <td>16364</td>\n      <td>DKI Jakarta</td>\n    </tr>\n    <tr>\n      <th>0.0</th>\n      <td>brand_a</td>\n      <td>Jakarta Barat</td>\n      <td>17422</td>\n      <td>DKI Jakarta</td>\n    </tr>\n    <tr>\n      <th>NaN</th>\n      <td>brand_i</td>\n      <td>NaN</td>\n      <td>14723</td>\n      <td>Banten</td>\n    </tr>\n  </tbody>\n</table>\n</div>"
          },
          "metadata": {}
        }
      ],
      "execution_count": 34
    },
    {
      "cell_type": "code",
      "source": "#groups the join DataFrame (result) by the 'province' column and applies aggregation functions\nimport pandas as pd\n\ndata1 = pd.DataFrame(\n   {'brand': ['brand_a', 'brand_a', 'brand_h'], \n    'city': ['Jakarta Barat', 'Jakarta Selatan', 'Tangerang']},\n)\ndata2 = pd.DataFrame(\n    {'customer_id': ['16364', '17422', '14723'], \n     'province': ['DKI Jakarta', 'DKI Jakarta', 'Banten']},\n)\nresult = data2.join(data1)\nprint(\"Original DataFrame:\")\nprint(result)\n\ngrouped_result = result.groupby('province').agg({\n    'customer_id': 'count',\n    'brand': 'nunique',\n    'city': 'nunique'\n})\nprint(\"\\nGrouped and Aggregated DataFrame:\")\ngrouped_result",
      "metadata": {
        "trusted": true
      },
      "outputs": [
        {
          "name": "stdout",
          "text": "Original DataFrame:\n  customer_id     province    brand             city\n0       16364  DKI Jakarta  brand_a    Jakarta Barat\n1       17422  DKI Jakarta  brand_a  Jakarta Selatan\n2       14723       Banten  brand_h        Tangerang\n\nGrouped and Aggregated DataFrame:\n",
          "output_type": "stream"
        },
        {
          "execution_count": 19,
          "output_type": "execute_result",
          "data": {
            "text/plain": "             customer_id  brand  city\nprovince                             \nBanten                 1      1     1\nDKI Jakarta            2      1     2",
            "text/html": "<div>\n<style scoped>\n    .dataframe tbody tr th:only-of-type {\n        vertical-align: middle;\n    }\n\n    .dataframe tbody tr th {\n        vertical-align: top;\n    }\n\n    .dataframe thead th {\n        text-align: right;\n    }\n</style>\n<table border=\"1\" class=\"dataframe\">\n  <thead>\n    <tr style=\"text-align: right;\">\n      <th></th>\n      <th>customer_id</th>\n      <th>brand</th>\n      <th>city</th>\n    </tr>\n    <tr>\n      <th>province</th>\n      <th></th>\n      <th></th>\n      <th></th>\n    </tr>\n  </thead>\n  <tbody>\n    <tr>\n      <th>Banten</th>\n      <td>1</td>\n      <td>1</td>\n      <td>1</td>\n    </tr>\n    <tr>\n      <th>DKI Jakarta</th>\n      <td>2</td>\n      <td>1</td>\n      <td>2</td>\n    </tr>\n  </tbody>\n</table>\n</div>"
          },
          "metadata": {}
        }
      ],
      "execution_count": 19
    },
    {
      "cell_type": "code",
      "source": "#joins two DataFrames (data1 and data2) on their indices, then groups the resulting DataFrame by the 'province' and 'brand' columns, and applies aggregation\nimport pandas as pd\n\ndata1 = pd.DataFrame(\n   {'brand': ['brand_a', 'brand_a', 'brand_h'], 'city': ['Jakarta Barat', 'Jakarta Selatan', 'Tangerang']},\n)\ndata2 = pd.DataFrame(\n    {'customer_id': ['16364', '17422', '14723'], 'province': ['DKI Jakarta', 'DKI Jakarta', 'Banten']},\n)\nresult = data2.join(data1)\ngrouped_result = result.groupby(['province', 'brand']).agg({\n    'customer_id': 'count',\n    'city': 'nunique'\n})\ngrouped_result",
      "metadata": {
        "trusted": true
      },
      "outputs": [
        {
          "execution_count": 33,
          "output_type": "execute_result",
          "data": {
            "text/plain": "                     customer_id  city\nprovince    brand                     \nBanten      brand_h            1     1\nDKI Jakarta brand_a            2     2",
            "text/html": "<div>\n<style scoped>\n    .dataframe tbody tr th:only-of-type {\n        vertical-align: middle;\n    }\n\n    .dataframe tbody tr th {\n        vertical-align: top;\n    }\n\n    .dataframe thead th {\n        text-align: right;\n    }\n</style>\n<table border=\"1\" class=\"dataframe\">\n  <thead>\n    <tr style=\"text-align: right;\">\n      <th></th>\n      <th></th>\n      <th>customer_id</th>\n      <th>city</th>\n    </tr>\n    <tr>\n      <th>province</th>\n      <th>brand</th>\n      <th></th>\n      <th></th>\n    </tr>\n  </thead>\n  <tbody>\n    <tr>\n      <th>Banten</th>\n      <th>brand_h</th>\n      <td>1</td>\n      <td>1</td>\n    </tr>\n    <tr>\n      <th>DKI Jakarta</th>\n      <th>brand_a</th>\n      <td>2</td>\n      <td>2</td>\n    </tr>\n  </tbody>\n</table>\n</div>"
          },
          "metadata": {}
        }
      ],
      "execution_count": 33
    },
    {
      "cell_type": "code",
      "source": "#joins two DataFrames (data1 and data2) then groups the resulting DataFrame by the 'province' column\nimport pandas as pd\n\ndata1 = pd.DataFrame(\n   {'brand': ['brand_a', 'brand_a', 'brand_h'], 'city': ['Jakarta Barat', 'Jakarta Selatan', 'Tangerang']},\n)\ndata2 = pd.DataFrame(\n    {'customer_id': ['16364', '17422', '14723'], 'province': ['DKI Jakarta', 'DKI Jakarta', 'Banten']},\n)\nresult = data2.join(data1)\ngrouped_result = result.groupby('province').agg({\n    'customer_id': ['count', 'min', 'max'],\n    'city': 'nunique'\n})\ngrouped_result",
      "metadata": {
        "trusted": true
      },
      "outputs": [
        {
          "execution_count": 32,
          "output_type": "execute_result",
          "data": {
            "text/plain": "            customer_id                  city\n                  count    min    max nunique\nprovince                                     \nBanten                1  14723  14723       1\nDKI Jakarta           2  16364  17422       2",
            "text/html": "<div>\n<style scoped>\n    .dataframe tbody tr th:only-of-type {\n        vertical-align: middle;\n    }\n\n    .dataframe tbody tr th {\n        vertical-align: top;\n    }\n\n    .dataframe thead tr th {\n        text-align: left;\n    }\n\n    .dataframe thead tr:last-of-type th {\n        text-align: right;\n    }\n</style>\n<table border=\"1\" class=\"dataframe\">\n  <thead>\n    <tr>\n      <th></th>\n      <th colspan=\"3\" halign=\"left\">customer_id</th>\n      <th>city</th>\n    </tr>\n    <tr>\n      <th></th>\n      <th>count</th>\n      <th>min</th>\n      <th>max</th>\n      <th>nunique</th>\n    </tr>\n    <tr>\n      <th>province</th>\n      <th></th>\n      <th></th>\n      <th></th>\n      <th></th>\n    </tr>\n  </thead>\n  <tbody>\n    <tr>\n      <th>Banten</th>\n      <td>1</td>\n      <td>14723</td>\n      <td>14723</td>\n      <td>1</td>\n    </tr>\n    <tr>\n      <th>DKI Jakarta</th>\n      <td>2</td>\n      <td>16364</td>\n      <td>17422</td>\n      <td>2</td>\n    </tr>\n  </tbody>\n</table>\n</div>"
          },
          "metadata": {}
        }
      ],
      "execution_count": 32
    }
  ]
}