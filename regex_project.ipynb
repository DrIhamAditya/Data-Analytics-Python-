{
  "metadata": {
    "kernelspec": {
      "name": "python",
      "display_name": "Python (Pyodide)",
      "language": "python"
    },
    "language_info": {
      "codemirror_mode": {
        "name": "python",
        "version": 3
      },
      "file_extension": ".py",
      "mimetype": "text/x-python",
      "name": "python",
      "nbconvert_exporter": "python",
      "pygments_lexer": "ipython3",
      "version": "3.8"
    }
  },
  "nbformat_minor": 4,
  "nbformat": 4,
  "cells": [
    {
      "cell_type": "code",
      "source": "#python regex project \n#import the required libraries\nimport pandas as pd \nimport re \n\nretail_raw_regex = pd.read_csv('retail_raw.csv')\nretail_raw_regex",
      "metadata": {
        "trusted": true
      },
      "outputs": [
        {
          "execution_count": 35,
          "output_type": "execute_result",
          "data": {
            "text/plain": "      order_id  order_date  customer_id             city     province  \\\n0      1703458  17/10/2019        14004  Jakarta Selatan  DKI Jakarta   \n1      1706815  24/10/2019        17220  Jakarta Selatan  DKI Jakarta   \n2      1710718  03/11/2019        16518    Jakarta Utara  DKI Jakarta   \n3      1683592  19/08/2019        16364    Jakarta Barat  DKI Jakarta   \n4      1702573  16/10/2019        15696    Jakarta Timur  DKI Jakarta   \n...        ...         ...          ...              ...          ...   \n4995   1724011  01/12/2019        12838        Tangerang       Banten   \n4996   1676302  28/07/2019        13833            Bogor   Jawa Barat   \n4997   1706071  23/10/2019        16332    Jakarta Timur  DKI Jakarta   \n4998   1703620  17/10/2019        13055    Jakarta Barat  DKI Jakarta   \n4999   1720036  24/11/2019        17609    Jakarta Pusat  DKI Jakarta   \n\n     product_id    brand  quantity  item_price  \n0         P1910  BRAND_J      10.0    740000.0  \n1         P2934  BRAND_R       2.0    604000.0  \n2         P0908  BRAND_C       8.0   1045000.0  \n3         P0128  BRAND_A       4.0    205000.0  \n4         P2968  BRAND_R       2.0         NaN  \n...         ...      ...       ...         ...  \n4995      P3047  BRAND_R       2.0    450000.0  \n4996      P0760  BRAND_C       3.0   1465000.0  \n4997      P1681  BRAND_H       4.0    747000.0  \n4998      P0757  BRAND_C       8.0    695000.0  \n4999      P3334  BRAND_S       1.0   1045000.0  \n\n[5000 rows x 9 columns]",
            "text/html": "<div>\n<style scoped>\n    .dataframe tbody tr th:only-of-type {\n        vertical-align: middle;\n    }\n\n    .dataframe tbody tr th {\n        vertical-align: top;\n    }\n\n    .dataframe thead th {\n        text-align: right;\n    }\n</style>\n<table border=\"1\" class=\"dataframe\">\n  <thead>\n    <tr style=\"text-align: right;\">\n      <th></th>\n      <th>order_id</th>\n      <th>order_date</th>\n      <th>customer_id</th>\n      <th>city</th>\n      <th>province</th>\n      <th>product_id</th>\n      <th>brand</th>\n      <th>quantity</th>\n      <th>item_price</th>\n    </tr>\n  </thead>\n  <tbody>\n    <tr>\n      <th>0</th>\n      <td>1703458</td>\n      <td>17/10/2019</td>\n      <td>14004</td>\n      <td>Jakarta Selatan</td>\n      <td>DKI Jakarta</td>\n      <td>P1910</td>\n      <td>BRAND_J</td>\n      <td>10.0</td>\n      <td>740000.0</td>\n    </tr>\n    <tr>\n      <th>1</th>\n      <td>1706815</td>\n      <td>24/10/2019</td>\n      <td>17220</td>\n      <td>Jakarta Selatan</td>\n      <td>DKI Jakarta</td>\n      <td>P2934</td>\n      <td>BRAND_R</td>\n      <td>2.0</td>\n      <td>604000.0</td>\n    </tr>\n    <tr>\n      <th>2</th>\n      <td>1710718</td>\n      <td>03/11/2019</td>\n      <td>16518</td>\n      <td>Jakarta Utara</td>\n      <td>DKI Jakarta</td>\n      <td>P0908</td>\n      <td>BRAND_C</td>\n      <td>8.0</td>\n      <td>1045000.0</td>\n    </tr>\n    <tr>\n      <th>3</th>\n      <td>1683592</td>\n      <td>19/08/2019</td>\n      <td>16364</td>\n      <td>Jakarta Barat</td>\n      <td>DKI Jakarta</td>\n      <td>P0128</td>\n      <td>BRAND_A</td>\n      <td>4.0</td>\n      <td>205000.0</td>\n    </tr>\n    <tr>\n      <th>4</th>\n      <td>1702573</td>\n      <td>16/10/2019</td>\n      <td>15696</td>\n      <td>Jakarta Timur</td>\n      <td>DKI Jakarta</td>\n      <td>P2968</td>\n      <td>BRAND_R</td>\n      <td>2.0</td>\n      <td>NaN</td>\n    </tr>\n    <tr>\n      <th>...</th>\n      <td>...</td>\n      <td>...</td>\n      <td>...</td>\n      <td>...</td>\n      <td>...</td>\n      <td>...</td>\n      <td>...</td>\n      <td>...</td>\n      <td>...</td>\n    </tr>\n    <tr>\n      <th>4995</th>\n      <td>1724011</td>\n      <td>01/12/2019</td>\n      <td>12838</td>\n      <td>Tangerang</td>\n      <td>Banten</td>\n      <td>P3047</td>\n      <td>BRAND_R</td>\n      <td>2.0</td>\n      <td>450000.0</td>\n    </tr>\n    <tr>\n      <th>4996</th>\n      <td>1676302</td>\n      <td>28/07/2019</td>\n      <td>13833</td>\n      <td>Bogor</td>\n      <td>Jawa Barat</td>\n      <td>P0760</td>\n      <td>BRAND_C</td>\n      <td>3.0</td>\n      <td>1465000.0</td>\n    </tr>\n    <tr>\n      <th>4997</th>\n      <td>1706071</td>\n      <td>23/10/2019</td>\n      <td>16332</td>\n      <td>Jakarta Timur</td>\n      <td>DKI Jakarta</td>\n      <td>P1681</td>\n      <td>BRAND_H</td>\n      <td>4.0</td>\n      <td>747000.0</td>\n    </tr>\n    <tr>\n      <th>4998</th>\n      <td>1703620</td>\n      <td>17/10/2019</td>\n      <td>13055</td>\n      <td>Jakarta Barat</td>\n      <td>DKI Jakarta</td>\n      <td>P0757</td>\n      <td>BRAND_C</td>\n      <td>8.0</td>\n      <td>695000.0</td>\n    </tr>\n    <tr>\n      <th>4999</th>\n      <td>1720036</td>\n      <td>24/11/2019</td>\n      <td>17609</td>\n      <td>Jakarta Pusat</td>\n      <td>DKI Jakarta</td>\n      <td>P3334</td>\n      <td>BRAND_S</td>\n      <td>1.0</td>\n      <td>1045000.0</td>\n    </tr>\n  </tbody>\n</table>\n<p>5000 rows × 9 columns</p>\n</div>"
          },
          "metadata": {}
        }
      ],
      "execution_count": 35
    },
    {
      "cell_type": "code",
      "source": "#checking for any dataset columns \n#import the required libraries\nimport pandas as pd \nimport re \n\nretail_raw_regex = pd.read_csv('retail_raw.csv')\nprint(retail_raw_regex.dtypes)",
      "metadata": {
        "trusted": true
      },
      "outputs": [
        {
          "name": "stdout",
          "text": "order_id         int64\norder_date      object\ncustomer_id      int64\ncity            object\nprovince        object\nproduct_id      object\nbrand           object\nquantity       float64\nitem_price     float64\ndtype: object\n",
          "output_type": "stream"
        }
      ],
      "execution_count": 61
    },
    {
      "cell_type": "code",
      "source": "#checking for any dataset columns \n#import the required libraries\nimport pandas as pd \nimport re \n\nretail_raw_regex = pd.read_csv('retail_raw.csv')\nprint(retail_raw_regex.columns)",
      "metadata": {
        "trusted": true
      },
      "outputs": [
        {
          "name": "stdout",
          "text": "Index(['order_id', 'order_date', 'customer_id', 'city', 'province',\n       'product_id', 'brand', 'quantity', 'item_price'],\n      dtype='object')\n",
          "output_type": "stream"
        }
      ],
      "execution_count": 36
    },
    {
      "cell_type": "code",
      "source": "#print 5 upper rows of the dataset\n#import the required libraries\nimport pandas as pd \nimport re \n\nretail_raw_regex = pd.read_csv('retail_raw.csv')\nretail_raw_regex.head(20)",
      "metadata": {
        "trusted": true
      },
      "outputs": [
        {
          "execution_count": 38,
          "output_type": "execute_result",
          "data": {
            "text/plain": "    order_id  order_date  customer_id             city     province  \\\n0    1703458  17/10/2019        14004  Jakarta Selatan  DKI Jakarta   \n1    1706815  24/10/2019        17220  Jakarta Selatan  DKI Jakarta   \n2    1710718  03/11/2019        16518    Jakarta Utara  DKI Jakarta   \n3    1683592  19/08/2019        16364    Jakarta Barat  DKI Jakarta   \n4    1702573  16/10/2019        15696    Jakarta Timur  DKI Jakarta   \n5    1672906  16/07/2019        12748    Jakarta Utara  DKI Jakarta   \n6    1711399  04/11/2019        16791    Jakarta Barat  DKI Jakarta   \n7    1695367  26/09/2019        13069        Surakarta  Jawa Tengah   \n8    1741846  30/12/2019        16873    Jakarta Barat  DKI Jakarta   \n9    1720189  24/11/2019        14723        Tangerang       Banten   \n10   1683583  19/08/2019        13814         Denpasar         Bali   \n11   1693309  19/09/2019        17841    Jakarta Utara  DKI Jakarta   \n12   1708381  29/10/2019        13895        Tangerang       Banten   \n13   1705093  21/10/2019        16999    Jakarta Utara  DKI Jakarta   \n14   1734790  18/12/2019        17422  Jakarta Selatan  DKI Jakarta   \n15   1678960  05/08/2019        14552        Tangerang       Banten   \n16   1668715  04/07/2019        13397         Surabaya   Jawa Timur   \n17   1714324  11/11/2019        14096        Surakarta  Jawa Tengah   \n18   1669411  07/07/2019        15291    Jakarta Pusat  DKI Jakarta   \n19   1731961  13/12/2019        13880            Bogor   Jawa Barat   \n\n   product_id    brand  quantity  item_price  \n0       P1910  BRAND_J      10.0    740000.0  \n1       P2934  BRAND_R       2.0    604000.0  \n2       P0908  BRAND_C       8.0   1045000.0  \n3       P0128  BRAND_A       4.0    205000.0  \n4       P2968  BRAND_R       2.0         NaN  \n5       P0710  BRAND_C       4.0    520000.0  \n6       P0860  BRAND_C       1.0   1465000.0  \n7       P3342  BRAND_S       2.0    205000.0  \n8       P3203  BRAND_S      32.0    450000.0  \n9       P1701  BRAND_H       2.0    149000.0  \n10      P2864  BRAND_R       6.0   1045000.0  \n11      P1798  BRAND_H       1.0    604000.0  \n12      P2074  BRAND_L       3.0   2200000.0  \n13      P2521  BRAND_P       4.0   1745000.0  \n14      P0122  BRAND_A       NaN    695000.0  \n15      P3482  BRAND_S       1.0    904000.0  \n16      P1902  BRAND_J      10.0    740000.0  \n17      P2022  BRAND_L       1.0   1748000.0  \n18      P0931  BRAND_C       4.0   1395000.0  \n19      P2853  BRAND_R       6.0    740000.0  ",
            "text/html": "<div>\n<style scoped>\n    .dataframe tbody tr th:only-of-type {\n        vertical-align: middle;\n    }\n\n    .dataframe tbody tr th {\n        vertical-align: top;\n    }\n\n    .dataframe thead th {\n        text-align: right;\n    }\n</style>\n<table border=\"1\" class=\"dataframe\">\n  <thead>\n    <tr style=\"text-align: right;\">\n      <th></th>\n      <th>order_id</th>\n      <th>order_date</th>\n      <th>customer_id</th>\n      <th>city</th>\n      <th>province</th>\n      <th>product_id</th>\n      <th>brand</th>\n      <th>quantity</th>\n      <th>item_price</th>\n    </tr>\n  </thead>\n  <tbody>\n    <tr>\n      <th>0</th>\n      <td>1703458</td>\n      <td>17/10/2019</td>\n      <td>14004</td>\n      <td>Jakarta Selatan</td>\n      <td>DKI Jakarta</td>\n      <td>P1910</td>\n      <td>BRAND_J</td>\n      <td>10.0</td>\n      <td>740000.0</td>\n    </tr>\n    <tr>\n      <th>1</th>\n      <td>1706815</td>\n      <td>24/10/2019</td>\n      <td>17220</td>\n      <td>Jakarta Selatan</td>\n      <td>DKI Jakarta</td>\n      <td>P2934</td>\n      <td>BRAND_R</td>\n      <td>2.0</td>\n      <td>604000.0</td>\n    </tr>\n    <tr>\n      <th>2</th>\n      <td>1710718</td>\n      <td>03/11/2019</td>\n      <td>16518</td>\n      <td>Jakarta Utara</td>\n      <td>DKI Jakarta</td>\n      <td>P0908</td>\n      <td>BRAND_C</td>\n      <td>8.0</td>\n      <td>1045000.0</td>\n    </tr>\n    <tr>\n      <th>3</th>\n      <td>1683592</td>\n      <td>19/08/2019</td>\n      <td>16364</td>\n      <td>Jakarta Barat</td>\n      <td>DKI Jakarta</td>\n      <td>P0128</td>\n      <td>BRAND_A</td>\n      <td>4.0</td>\n      <td>205000.0</td>\n    </tr>\n    <tr>\n      <th>4</th>\n      <td>1702573</td>\n      <td>16/10/2019</td>\n      <td>15696</td>\n      <td>Jakarta Timur</td>\n      <td>DKI Jakarta</td>\n      <td>P2968</td>\n      <td>BRAND_R</td>\n      <td>2.0</td>\n      <td>NaN</td>\n    </tr>\n    <tr>\n      <th>5</th>\n      <td>1672906</td>\n      <td>16/07/2019</td>\n      <td>12748</td>\n      <td>Jakarta Utara</td>\n      <td>DKI Jakarta</td>\n      <td>P0710</td>\n      <td>BRAND_C</td>\n      <td>4.0</td>\n      <td>520000.0</td>\n    </tr>\n    <tr>\n      <th>6</th>\n      <td>1711399</td>\n      <td>04/11/2019</td>\n      <td>16791</td>\n      <td>Jakarta Barat</td>\n      <td>DKI Jakarta</td>\n      <td>P0860</td>\n      <td>BRAND_C</td>\n      <td>1.0</td>\n      <td>1465000.0</td>\n    </tr>\n    <tr>\n      <th>7</th>\n      <td>1695367</td>\n      <td>26/09/2019</td>\n      <td>13069</td>\n      <td>Surakarta</td>\n      <td>Jawa Tengah</td>\n      <td>P3342</td>\n      <td>BRAND_S</td>\n      <td>2.0</td>\n      <td>205000.0</td>\n    </tr>\n    <tr>\n      <th>8</th>\n      <td>1741846</td>\n      <td>30/12/2019</td>\n      <td>16873</td>\n      <td>Jakarta Barat</td>\n      <td>DKI Jakarta</td>\n      <td>P3203</td>\n      <td>BRAND_S</td>\n      <td>32.0</td>\n      <td>450000.0</td>\n    </tr>\n    <tr>\n      <th>9</th>\n      <td>1720189</td>\n      <td>24/11/2019</td>\n      <td>14723</td>\n      <td>Tangerang</td>\n      <td>Banten</td>\n      <td>P1701</td>\n      <td>BRAND_H</td>\n      <td>2.0</td>\n      <td>149000.0</td>\n    </tr>\n    <tr>\n      <th>10</th>\n      <td>1683583</td>\n      <td>19/08/2019</td>\n      <td>13814</td>\n      <td>Denpasar</td>\n      <td>Bali</td>\n      <td>P2864</td>\n      <td>BRAND_R</td>\n      <td>6.0</td>\n      <td>1045000.0</td>\n    </tr>\n    <tr>\n      <th>11</th>\n      <td>1693309</td>\n      <td>19/09/2019</td>\n      <td>17841</td>\n      <td>Jakarta Utara</td>\n      <td>DKI Jakarta</td>\n      <td>P1798</td>\n      <td>BRAND_H</td>\n      <td>1.0</td>\n      <td>604000.0</td>\n    </tr>\n    <tr>\n      <th>12</th>\n      <td>1708381</td>\n      <td>29/10/2019</td>\n      <td>13895</td>\n      <td>Tangerang</td>\n      <td>Banten</td>\n      <td>P2074</td>\n      <td>BRAND_L</td>\n      <td>3.0</td>\n      <td>2200000.0</td>\n    </tr>\n    <tr>\n      <th>13</th>\n      <td>1705093</td>\n      <td>21/10/2019</td>\n      <td>16999</td>\n      <td>Jakarta Utara</td>\n      <td>DKI Jakarta</td>\n      <td>P2521</td>\n      <td>BRAND_P</td>\n      <td>4.0</td>\n      <td>1745000.0</td>\n    </tr>\n    <tr>\n      <th>14</th>\n      <td>1734790</td>\n      <td>18/12/2019</td>\n      <td>17422</td>\n      <td>Jakarta Selatan</td>\n      <td>DKI Jakarta</td>\n      <td>P0122</td>\n      <td>BRAND_A</td>\n      <td>NaN</td>\n      <td>695000.0</td>\n    </tr>\n    <tr>\n      <th>15</th>\n      <td>1678960</td>\n      <td>05/08/2019</td>\n      <td>14552</td>\n      <td>Tangerang</td>\n      <td>Banten</td>\n      <td>P3482</td>\n      <td>BRAND_S</td>\n      <td>1.0</td>\n      <td>904000.0</td>\n    </tr>\n    <tr>\n      <th>16</th>\n      <td>1668715</td>\n      <td>04/07/2019</td>\n      <td>13397</td>\n      <td>Surabaya</td>\n      <td>Jawa Timur</td>\n      <td>P1902</td>\n      <td>BRAND_J</td>\n      <td>10.0</td>\n      <td>740000.0</td>\n    </tr>\n    <tr>\n      <th>17</th>\n      <td>1714324</td>\n      <td>11/11/2019</td>\n      <td>14096</td>\n      <td>Surakarta</td>\n      <td>Jawa Tengah</td>\n      <td>P2022</td>\n      <td>BRAND_L</td>\n      <td>1.0</td>\n      <td>1748000.0</td>\n    </tr>\n    <tr>\n      <th>18</th>\n      <td>1669411</td>\n      <td>07/07/2019</td>\n      <td>15291</td>\n      <td>Jakarta Pusat</td>\n      <td>DKI Jakarta</td>\n      <td>P0931</td>\n      <td>BRAND_C</td>\n      <td>4.0</td>\n      <td>1395000.0</td>\n    </tr>\n    <tr>\n      <th>19</th>\n      <td>1731961</td>\n      <td>13/12/2019</td>\n      <td>13880</td>\n      <td>Bogor</td>\n      <td>Jawa Barat</td>\n      <td>P2853</td>\n      <td>BRAND_R</td>\n      <td>6.0</td>\n      <td>740000.0</td>\n    </tr>\n  </tbody>\n</table>\n</div>"
          },
          "metadata": {}
        }
      ],
      "execution_count": 38
    },
    {
      "cell_type": "code",
      "source": "#search for province that begins with 'DKI'\n#import the required libraries\nimport pandas as pd \nimport re \n\nretail_raw_regex = pd.read_csv('retail_raw.csv')\nretail_raw_regex['new_province'] = retail_raw_regex['province'].str.contains('^DKI')\nprint(retail_raw_regex[['province','new_province']].head(30))",
      "metadata": {
        "trusted": true
      },
      "outputs": [
        {
          "name": "stdout",
          "text": "       province new_province\n0   DKI Jakarta         True\n1   DKI Jakarta         True\n2   DKI Jakarta         True\n3   DKI Jakarta         True\n4   DKI Jakarta         True\n5   DKI Jakarta         True\n6   DKI Jakarta         True\n7   Jawa Tengah        False\n8   DKI Jakarta         True\n9        Banten        False\n10         Bali        False\n11  DKI Jakarta         True\n12       Banten        False\n13  DKI Jakarta         True\n14  DKI Jakarta         True\n15       Banten        False\n16   Jawa Timur        False\n17  Jawa Tengah        False\n18  DKI Jakarta         True\n19   Jawa Barat        False\n20  DKI Jakarta         True\n21   Jawa Barat        False\n22  DKI Jakarta         True\n23   Yogyakarta        False\n24   Jawa Barat        False\n25  DKI Jakarta         True\n26   Jawa Barat        False\n27   Jawa Barat        False\n28  DKI Jakarta         True\n29  DKI Jakarta         True\n",
          "output_type": "stream"
        }
      ],
      "execution_count": 39
    },
    {
      "cell_type": "code",
      "source": "#search for province that begins with 'Jawa Barat'\n#import the required libraries\nimport pandas as pd \nimport re \n\nretail_raw_regex = pd.read_csv('retail_raw.csv')\nretail_raw_regex['new_province'] = retail_raw_regex['province'].str.contains('^Jawa Barat$')\nprint(retail_raw_regex[['province','new_province']].head(30))",
      "metadata": {
        "trusted": true
      },
      "outputs": [
        {
          "name": "stdout",
          "text": "       province new_province\n0   DKI Jakarta        False\n1   DKI Jakarta        False\n2   DKI Jakarta        False\n3   DKI Jakarta        False\n4   DKI Jakarta        False\n5   DKI Jakarta        False\n6   DKI Jakarta        False\n7   Jawa Tengah        False\n8   DKI Jakarta        False\n9        Banten        False\n10         Bali        False\n11  DKI Jakarta        False\n12       Banten        False\n13  DKI Jakarta        False\n14  DKI Jakarta        False\n15       Banten        False\n16   Jawa Timur        False\n17  Jawa Tengah        False\n18  DKI Jakarta        False\n19   Jawa Barat         True\n20  DKI Jakarta        False\n21   Jawa Barat         True\n22  DKI Jakarta        False\n23   Yogyakarta        False\n24   Jawa Barat         True\n25  DKI Jakarta        False\n26   Jawa Barat         True\n27   Jawa Barat         True\n28  DKI Jakarta        False\n29  DKI Jakarta        False\n",
          "output_type": "stream"
        }
      ],
      "execution_count": 40
    },
    {
      "cell_type": "code",
      "source": "#search for brand identity that ends with 'S' or 'J'\n#import the required libraries\nimport pandas as pd \nimport re \n\nretail_raw_regex = pd.read_csv('retail_raw.csv')\nretail_raw_regex['new_brand'] = retail_raw_regex['brand'].str.contains('^BR.+S|BR.+J')\nprint(retail_raw_regex[['brand','new_brand']].head(30))",
      "metadata": {
        "trusted": true
      },
      "outputs": [
        {
          "name": "stdout",
          "text": "      brand  new_brand\n0   BRAND_J       True\n1   BRAND_R      False\n2   BRAND_C      False\n3   BRAND_A      False\n4   BRAND_R      False\n5   BRAND_C      False\n6   BRAND_C      False\n7   BRAND_S       True\n8   BRAND_S       True\n9   BRAND_H      False\n10  BRAND_R      False\n11  BRAND_H      False\n12  BRAND_L      False\n13  BRAND_P      False\n14  BRAND_A      False\n15  BRAND_S       True\n16  BRAND_J       True\n17  BRAND_L      False\n18  BRAND_C      False\n19  BRAND_R      False\n20  BRAND_S       True\n21  BRAND_W      False\n22  BRAND_J       True\n23  BRAND_H      False\n24  BRAND_C      False\n25  BRAND_S       True\n26  BRAND_W      False\n27  BRAND_J       True\n28  BRAND_B      False\n29  BRAND_S       True\n",
          "output_type": "stream"
        }
      ],
      "execution_count": 41
    },
    {
      "cell_type": "code",
      "source": "#changing alphabet 'P' in the product_id column with 'QS'\nimport pandas as pd \nimport re \n\nretail_raw_regex = pd.read_csv('retail_raw.csv')\nretail_raw_regex['product_id_edit'] = retail_raw_regex['product_id'].str.replace('^P','QS')\nprint(retail_raw_regex[['product_id','product_id_edit']])",
      "metadata": {
        "trusted": true
      },
      "outputs": [
        {
          "name": "stderr",
          "text": "<ipython-input-67-c0dea63e5e0e>:6: FutureWarning: The default value of regex will change from True to False in a future version.\n  retail_raw_regex['product_id_edit'] = retail_raw_regex['product_id'].str.replace('^P','QS')\n",
          "output_type": "stream"
        },
        {
          "name": "stdout",
          "text": "     product_id product_id_edit\n0         P1910          QS1910\n1         P2934          QS2934\n2         P0908          QS0908\n3         P0128          QS0128\n4         P2968          QS2968\n...         ...             ...\n4995      P3047          QS3047\n4996      P0760          QS0760\n4997      P1681          QS1681\n4998      P0757          QS0757\n4999      P3334          QS3334\n\n[5000 rows x 2 columns]\n",
          "output_type": "stream"
        }
      ],
      "execution_count": 67
    }
  ]
}